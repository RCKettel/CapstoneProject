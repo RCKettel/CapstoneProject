{
 "cells": [
  {
   "cell_type": "markdown",
   "metadata": {},
   "source": [
    "## Notebook Description"
   ]
  },
  {
   "cell_type": "markdown",
   "metadata": {},
   "source": [
    "This notebook is an exploration of the next steps proposed in my Readme.  There are minimal descriptions of code."
   ]
  },
  {
   "cell_type": "markdown",
   "metadata": {},
   "source": [
    "### Next steps\n",
    "\n",
    "- Drop outliers and rerun models\n",
    "- If scores don't improve find more data and engineer more features than were made previously\n",
    "- Run models again and find which models are best"
   ]
  },
  {
   "cell_type": "code",
   "execution_count": 1,
   "metadata": {},
   "outputs": [],
   "source": [
    "import numpy as np \n",
    "import pandas as pd \n",
    "import seaborn as sns\n",
    "import requests\n",
    "import json\n",
    "import warnings\n",
    "import pickle\n",
    "import random\n",
    "warnings.filterwarnings('ignore')\n",
    "import matplotlib.pyplot as plt\n",
    "\n",
    "from tqdm import tqdm\n",
    "from time import sleep\n",
    "from io import BytesIO\n",
    "from datetime import datetime\n",
    "from igdb.wrapper import IGDBWrapper\n",
    "from sklearn.ensemble import RandomForestRegressor\n",
    "from sklearn.linear_model import LinearRegression, Ridge, Lasso\n",
    "from sklearn.preprocessing import OneHotEncoder, StandardScaler\n",
    "from sklearn.metrics import  mean_squared_error, mean_absolute_error\n",
    "from sklearn.model_selection import train_test_split, cross_val_score, GridSearchCV"
   ]
  },
  {
   "cell_type": "code",
   "execution_count": 2,
   "metadata": {},
   "outputs": [
    {
     "data": {
      "text/html": [
       "<div>\n",
       "<style scoped>\n",
       "    .dataframe tbody tr th:only-of-type {\n",
       "        vertical-align: middle;\n",
       "    }\n",
       "\n",
       "    .dataframe tbody tr th {\n",
       "        vertical-align: top;\n",
       "    }\n",
       "\n",
       "    .dataframe thead th {\n",
       "        text-align: right;\n",
       "    }\n",
       "</style>\n",
       "<table border=\"1\" class=\"dataframe\">\n",
       "  <thead>\n",
       "    <tr style=\"text-align: right;\">\n",
       "      <th></th>\n",
       "      <th>Rank</th>\n",
       "      <th>Name</th>\n",
       "      <th>Platform</th>\n",
       "      <th>Year</th>\n",
       "      <th>Genre</th>\n",
       "      <th>Publisher</th>\n",
       "      <th>NA_Sales</th>\n",
       "      <th>EU_Sales</th>\n",
       "      <th>JP_Sales</th>\n",
       "      <th>Other_Sales</th>\n",
       "      <th>Global_Sales</th>\n",
       "    </tr>\n",
       "  </thead>\n",
       "  <tbody>\n",
       "    <tr>\n",
       "      <th>0</th>\n",
       "      <td>1</td>\n",
       "      <td>Wii Sports</td>\n",
       "      <td>Wii</td>\n",
       "      <td>2006.0</td>\n",
       "      <td>Sports</td>\n",
       "      <td>Nintendo</td>\n",
       "      <td>41.49</td>\n",
       "      <td>29.02</td>\n",
       "      <td>3.77</td>\n",
       "      <td>8.46</td>\n",
       "      <td>82.74</td>\n",
       "    </tr>\n",
       "    <tr>\n",
       "      <th>1</th>\n",
       "      <td>2</td>\n",
       "      <td>Super Mario Bros.</td>\n",
       "      <td>NES</td>\n",
       "      <td>1985.0</td>\n",
       "      <td>Platform</td>\n",
       "      <td>Nintendo</td>\n",
       "      <td>29.08</td>\n",
       "      <td>3.58</td>\n",
       "      <td>6.81</td>\n",
       "      <td>0.77</td>\n",
       "      <td>40.24</td>\n",
       "    </tr>\n",
       "    <tr>\n",
       "      <th>2</th>\n",
       "      <td>3</td>\n",
       "      <td>Mario Kart Wii</td>\n",
       "      <td>Wii</td>\n",
       "      <td>2008.0</td>\n",
       "      <td>Racing</td>\n",
       "      <td>Nintendo</td>\n",
       "      <td>15.85</td>\n",
       "      <td>12.88</td>\n",
       "      <td>3.79</td>\n",
       "      <td>3.31</td>\n",
       "      <td>35.82</td>\n",
       "    </tr>\n",
       "    <tr>\n",
       "      <th>3</th>\n",
       "      <td>4</td>\n",
       "      <td>Wii Sports Resort</td>\n",
       "      <td>Wii</td>\n",
       "      <td>2009.0</td>\n",
       "      <td>Sports</td>\n",
       "      <td>Nintendo</td>\n",
       "      <td>15.75</td>\n",
       "      <td>11.01</td>\n",
       "      <td>3.28</td>\n",
       "      <td>2.96</td>\n",
       "      <td>33.00</td>\n",
       "    </tr>\n",
       "    <tr>\n",
       "      <th>4</th>\n",
       "      <td>5</td>\n",
       "      <td>Pokemon Red/Pokemon Blue</td>\n",
       "      <td>GB</td>\n",
       "      <td>1996.0</td>\n",
       "      <td>Role-Playing</td>\n",
       "      <td>Nintendo</td>\n",
       "      <td>11.27</td>\n",
       "      <td>8.89</td>\n",
       "      <td>10.22</td>\n",
       "      <td>1.00</td>\n",
       "      <td>31.37</td>\n",
       "    </tr>\n",
       "  </tbody>\n",
       "</table>\n",
       "</div>"
      ],
      "text/plain": [
       "   Rank                      Name Platform    Year         Genre Publisher  \\\n",
       "0     1                Wii Sports      Wii  2006.0        Sports  Nintendo   \n",
       "1     2         Super Mario Bros.      NES  1985.0      Platform  Nintendo   \n",
       "2     3            Mario Kart Wii      Wii  2008.0        Racing  Nintendo   \n",
       "3     4         Wii Sports Resort      Wii  2009.0        Sports  Nintendo   \n",
       "4     5  Pokemon Red/Pokemon Blue       GB  1996.0  Role-Playing  Nintendo   \n",
       "\n",
       "   NA_Sales  EU_Sales  JP_Sales  Other_Sales  Global_Sales  \n",
       "0     41.49     29.02      3.77         8.46         82.74  \n",
       "1     29.08      3.58      6.81         0.77         40.24  \n",
       "2     15.85     12.88      3.79         3.31         35.82  \n",
       "3     15.75     11.01      3.28         2.96         33.00  \n",
       "4     11.27      8.89     10.22         1.00         31.37  "
      ]
     },
     "execution_count": 2,
     "metadata": {},
     "output_type": "execute_result"
    }
   ],
   "source": [
    "sglobal = pd.read_csv('../Data/vgsalesGlobale2.csv')\n",
    "sglobal.head()"
   ]
  },
  {
   "cell_type": "code",
   "execution_count": 3,
   "metadata": {},
   "outputs": [
    {
     "name": "stdout",
     "output_type": "stream",
     "text": [
      "<class 'pandas.core.frame.DataFrame'>\n",
      "RangeIndex: 16598 entries, 0 to 16597\n",
      "Data columns (total 11 columns):\n",
      "Rank            16598 non-null int64\n",
      "Name            16598 non-null object\n",
      "Platform        16598 non-null object\n",
      "Year            16327 non-null float64\n",
      "Genre           16598 non-null object\n",
      "Publisher       16540 non-null object\n",
      "NA_Sales        16598 non-null float64\n",
      "EU_Sales        16598 non-null float64\n",
      "JP_Sales        16598 non-null float64\n",
      "Other_Sales     16598 non-null float64\n",
      "Global_Sales    16598 non-null float64\n",
      "dtypes: float64(6), int64(1), object(4)\n",
      "memory usage: 1.4+ MB\n"
     ]
    }
   ],
   "source": [
    "sglobal.info()"
   ]
  },
  {
   "cell_type": "code",
   "execution_count": 4,
   "metadata": {},
   "outputs": [
    {
     "data": {
      "image/png": "[encoded data removed]",
      "text/plain": [
       "<Figure size 432x288 with 1 Axes>"
      ]
     },
     "metadata": {},
     "output_type": "display_data"
    }
   ],
   "source": [
    "sns.set_style('darkgrid')\n",
    "sns.scatterplot(sglobal.Year, sglobal.Global_Sales);\n",
    "plt.title('Game Sales by Year')\n",
    "plt.ylabel('Global Sales')\n",
    "plt.show()"
   ]
  },
  {
   "cell_type": "markdown",
   "metadata": {},
   "source": [
    "#### Dropping columns"
   ]
  },
  {
   "cell_type": "code",
   "execution_count": 5,
   "metadata": {
    "scrolled": true
   },
   "outputs": [
    {
     "data": {
      "text/html": [
       "<div>\n",
       "<style scoped>\n",
       "    .dataframe tbody tr th:only-of-type {\n",
       "        vertical-align: middle;\n",
       "    }\n",
       "\n",
       "    .dataframe tbody tr th {\n",
       "        vertical-align: top;\n",
       "    }\n",
       "\n",
       "    .dataframe thead th {\n",
       "        text-align: right;\n",
       "    }\n",
       "</style>\n",
       "<table border=\"1\" class=\"dataframe\">\n",
       "  <thead>\n",
       "    <tr style=\"text-align: right;\">\n",
       "      <th></th>\n",
       "      <th>Name</th>\n",
       "      <th>Platform</th>\n",
       "      <th>Year</th>\n",
       "      <th>Genre</th>\n",
       "      <th>Publisher</th>\n",
       "      <th>Global_Sales</th>\n",
       "    </tr>\n",
       "  </thead>\n",
       "  <tbody>\n",
       "    <tr>\n",
       "      <th>0</th>\n",
       "      <td>Wii Sports</td>\n",
       "      <td>Wii</td>\n",
       "      <td>2006.0</td>\n",
       "      <td>Sports</td>\n",
       "      <td>Nintendo</td>\n",
       "      <td>82.74</td>\n",
       "    </tr>\n",
       "    <tr>\n",
       "      <th>1</th>\n",
       "      <td>Super Mario Bros.</td>\n",
       "      <td>NES</td>\n",
       "      <td>1985.0</td>\n",
       "      <td>Platform</td>\n",
       "      <td>Nintendo</td>\n",
       "      <td>40.24</td>\n",
       "    </tr>\n",
       "    <tr>\n",
       "      <th>2</th>\n",
       "      <td>Mario Kart Wii</td>\n",
       "      <td>Wii</td>\n",
       "      <td>2008.0</td>\n",
       "      <td>Racing</td>\n",
       "      <td>Nintendo</td>\n",
       "      <td>35.82</td>\n",
       "    </tr>\n",
       "    <tr>\n",
       "      <th>3</th>\n",
       "      <td>Wii Sports Resort</td>\n",
       "      <td>Wii</td>\n",
       "      <td>2009.0</td>\n",
       "      <td>Sports</td>\n",
       "      <td>Nintendo</td>\n",
       "      <td>33.00</td>\n",
       "    </tr>\n",
       "    <tr>\n",
       "      <th>4</th>\n",
       "      <td>Pokemon Red/Pokemon Blue</td>\n",
       "      <td>GB</td>\n",
       "      <td>1996.0</td>\n",
       "      <td>Role-Playing</td>\n",
       "      <td>Nintendo</td>\n",
       "      <td>31.37</td>\n",
       "    </tr>\n",
       "  </tbody>\n",
       "</table>\n",
       "</div>"
      ],
      "text/plain": [
       "                       Name Platform    Year         Genre Publisher  \\\n",
       "0                Wii Sports      Wii  2006.0        Sports  Nintendo   \n",
       "1         Super Mario Bros.      NES  1985.0      Platform  Nintendo   \n",
       "2            Mario Kart Wii      Wii  2008.0        Racing  Nintendo   \n",
       "3         Wii Sports Resort      Wii  2009.0        Sports  Nintendo   \n",
       "4  Pokemon Red/Pokemon Blue       GB  1996.0  Role-Playing  Nintendo   \n",
       "\n",
       "   Global_Sales  \n",
       "0         82.74  \n",
       "1         40.24  \n",
       "2         35.82  \n",
       "3         33.00  \n",
       "4         31.37  "
      ]
     },
     "execution_count": 5,
     "metadata": {},
     "output_type": "execute_result"
    }
   ],
   "source": [
    "# Name column will be dropped later\n",
    "sglobal.drop(columns=['NA_Sales', 'EU_Sales', 'JP_Sales', 'Other_Sales', 'Rank'], axis=1, inplace=True)\n",
    "sglobal.head()"
   ]
  },
  {
   "cell_type": "markdown",
   "metadata": {},
   "source": [
    "#### Dropping NaN values"
   ]
  },
  {
   "cell_type": "code",
   "execution_count": 6,
   "metadata": {
    "scrolled": true
   },
   "outputs": [
    {
     "data": {
      "text/plain": [
       "Name            0\n",
       "Platform        0\n",
       "Year            0\n",
       "Genre           0\n",
       "Publisher       0\n",
       "Global_Sales    0\n",
       "dtype: int64"
      ]
     },
     "execution_count": 6,
     "metadata": {},
     "output_type": "execute_result"
    }
   ],
   "source": [
    "sglobal.dropna(inplace=True)\n",
    "sglobal.isna().sum()"
   ]
  },
  {
   "cell_type": "markdown",
   "metadata": {},
   "source": [
    "#### Creating another feature"
   ]
  },
  {
   "cell_type": "code",
   "execution_count": 7,
   "metadata": {},
   "outputs": [
    {
     "data": {
      "text/html": [
       "<div>\n",
       "<style scoped>\n",
       "    .dataframe tbody tr th:only-of-type {\n",
       "        vertical-align: middle;\n",
       "    }\n",
       "\n",
       "    .dataframe tbody tr th {\n",
       "        vertical-align: top;\n",
       "    }\n",
       "\n",
       "    .dataframe thead th {\n",
       "        text-align: right;\n",
       "    }\n",
       "</style>\n",
       "<table border=\"1\" class=\"dataframe\">\n",
       "  <thead>\n",
       "    <tr style=\"text-align: right;\">\n",
       "      <th></th>\n",
       "      <th>Remake</th>\n",
       "    </tr>\n",
       "  </thead>\n",
       "  <tbody>\n",
       "    <tr>\n",
       "      <th>0</th>\n",
       "      <td>False</td>\n",
       "    </tr>\n",
       "    <tr>\n",
       "      <th>1</th>\n",
       "      <td>False</td>\n",
       "    </tr>\n",
       "    <tr>\n",
       "      <th>2</th>\n",
       "      <td>False</td>\n",
       "    </tr>\n",
       "    <tr>\n",
       "      <th>3</th>\n",
       "      <td>False</td>\n",
       "    </tr>\n",
       "    <tr>\n",
       "      <th>4</th>\n",
       "      <td>False</td>\n",
       "    </tr>\n",
       "  </tbody>\n",
       "</table>\n",
       "</div>"
      ],
      "text/plain": [
       "   Remake\n",
       "0   False\n",
       "1   False\n",
       "2   False\n",
       "3   False\n",
       "4   False"
      ]
     },
     "execution_count": 7,
     "metadata": {},
     "output_type": "execute_result"
    }
   ],
   "source": [
    "remake = np.array(sglobal['Name'].duplicated())\n",
    "remake_df = pd.DataFrame(remake, columns=['Remake'], index=sglobal.index)\n",
    "remake_df.head()"
   ]
  },
  {
   "cell_type": "code",
   "execution_count": 8,
   "metadata": {},
   "outputs": [
    {
     "data": {
      "text/html": [
       "<div>\n",
       "<style scoped>\n",
       "    .dataframe tbody tr th:only-of-type {\n",
       "        vertical-align: middle;\n",
       "    }\n",
       "\n",
       "    .dataframe tbody tr th {\n",
       "        vertical-align: top;\n",
       "    }\n",
       "\n",
       "    .dataframe thead th {\n",
       "        text-align: right;\n",
       "    }\n",
       "</style>\n",
       "<table border=\"1\" class=\"dataframe\">\n",
       "  <thead>\n",
       "    <tr style=\"text-align: right;\">\n",
       "      <th></th>\n",
       "      <th>Name</th>\n",
       "      <th>Platform</th>\n",
       "      <th>Year</th>\n",
       "      <th>Genre</th>\n",
       "      <th>Publisher</th>\n",
       "      <th>Global_Sales</th>\n",
       "      <th>Remake</th>\n",
       "    </tr>\n",
       "  </thead>\n",
       "  <tbody>\n",
       "    <tr>\n",
       "      <th>0</th>\n",
       "      <td>Wii Sports</td>\n",
       "      <td>Wii</td>\n",
       "      <td>2006.0</td>\n",
       "      <td>Sports</td>\n",
       "      <td>Nintendo</td>\n",
       "      <td>82.74</td>\n",
       "      <td>False</td>\n",
       "    </tr>\n",
       "    <tr>\n",
       "      <th>1</th>\n",
       "      <td>Super Mario Bros.</td>\n",
       "      <td>NES</td>\n",
       "      <td>1985.0</td>\n",
       "      <td>Platform</td>\n",
       "      <td>Nintendo</td>\n",
       "      <td>40.24</td>\n",
       "      <td>False</td>\n",
       "    </tr>\n",
       "    <tr>\n",
       "      <th>2</th>\n",
       "      <td>Mario Kart Wii</td>\n",
       "      <td>Wii</td>\n",
       "      <td>2008.0</td>\n",
       "      <td>Racing</td>\n",
       "      <td>Nintendo</td>\n",
       "      <td>35.82</td>\n",
       "      <td>False</td>\n",
       "    </tr>\n",
       "    <tr>\n",
       "      <th>3</th>\n",
       "      <td>Wii Sports Resort</td>\n",
       "      <td>Wii</td>\n",
       "      <td>2009.0</td>\n",
       "      <td>Sports</td>\n",
       "      <td>Nintendo</td>\n",
       "      <td>33.00</td>\n",
       "      <td>False</td>\n",
       "    </tr>\n",
       "    <tr>\n",
       "      <th>4</th>\n",
       "      <td>Pokemon Red/Pokemon Blue</td>\n",
       "      <td>GB</td>\n",
       "      <td>1996.0</td>\n",
       "      <td>Role-Playing</td>\n",
       "      <td>Nintendo</td>\n",
       "      <td>31.37</td>\n",
       "      <td>False</td>\n",
       "    </tr>\n",
       "  </tbody>\n",
       "</table>\n",
       "</div>"
      ],
      "text/plain": [
       "                       Name Platform    Year         Genre Publisher  \\\n",
       "0                Wii Sports      Wii  2006.0        Sports  Nintendo   \n",
       "1         Super Mario Bros.      NES  1985.0      Platform  Nintendo   \n",
       "2            Mario Kart Wii      Wii  2008.0        Racing  Nintendo   \n",
       "3         Wii Sports Resort      Wii  2009.0        Sports  Nintendo   \n",
       "4  Pokemon Red/Pokemon Blue       GB  1996.0  Role-Playing  Nintendo   \n",
       "\n",
       "   Global_Sales  Remake  \n",
       "0         82.74   False  \n",
       "1         40.24   False  \n",
       "2         35.82   False  \n",
       "3         33.00   False  \n",
       "4         31.37   False  "
      ]
     },
     "execution_count": 8,
     "metadata": {},
     "output_type": "execute_result"
    }
   ],
   "source": [
    "sglobal_nn = pd.concat((sglobal,remake_df), axis=1)\n",
    "sglobal_nn.head()"
   ]
  },
  {
   "cell_type": "code",
   "execution_count": 9,
   "metadata": {},
   "outputs": [
    {
     "data": {
      "text/html": [
       "<div>\n",
       "<style scoped>\n",
       "    .dataframe tbody tr th:only-of-type {\n",
       "        vertical-align: middle;\n",
       "    }\n",
       "\n",
       "    .dataframe tbody tr th {\n",
       "        vertical-align: top;\n",
       "    }\n",
       "\n",
       "    .dataframe thead th {\n",
       "        text-align: right;\n",
       "    }\n",
       "</style>\n",
       "<table border=\"1\" class=\"dataframe\">\n",
       "  <thead>\n",
       "    <tr style=\"text-align: right;\">\n",
       "      <th></th>\n",
       "      <th>Name</th>\n",
       "      <th>Platform</th>\n",
       "      <th>Year</th>\n",
       "      <th>Genre</th>\n",
       "      <th>Publisher</th>\n",
       "      <th>Global_Sales</th>\n",
       "      <th>Remake</th>\n",
       "    </tr>\n",
       "  </thead>\n",
       "  <tbody>\n",
       "    <tr>\n",
       "      <th>0</th>\n",
       "      <td>Wii Sports</td>\n",
       "      <td>Wii</td>\n",
       "      <td>2006.0</td>\n",
       "      <td>Sports</td>\n",
       "      <td>Nintendo</td>\n",
       "      <td>82.74</td>\n",
       "      <td>0</td>\n",
       "    </tr>\n",
       "    <tr>\n",
       "      <th>1</th>\n",
       "      <td>Super Mario Bros.</td>\n",
       "      <td>NES</td>\n",
       "      <td>1985.0</td>\n",
       "      <td>Platform</td>\n",
       "      <td>Nintendo</td>\n",
       "      <td>40.24</td>\n",
       "      <td>0</td>\n",
       "    </tr>\n",
       "    <tr>\n",
       "      <th>2</th>\n",
       "      <td>Mario Kart Wii</td>\n",
       "      <td>Wii</td>\n",
       "      <td>2008.0</td>\n",
       "      <td>Racing</td>\n",
       "      <td>Nintendo</td>\n",
       "      <td>35.82</td>\n",
       "      <td>0</td>\n",
       "    </tr>\n",
       "    <tr>\n",
       "      <th>3</th>\n",
       "      <td>Wii Sports Resort</td>\n",
       "      <td>Wii</td>\n",
       "      <td>2009.0</td>\n",
       "      <td>Sports</td>\n",
       "      <td>Nintendo</td>\n",
       "      <td>33.00</td>\n",
       "      <td>0</td>\n",
       "    </tr>\n",
       "    <tr>\n",
       "      <th>4</th>\n",
       "      <td>Pokemon Red/Pokemon Blue</td>\n",
       "      <td>GB</td>\n",
       "      <td>1996.0</td>\n",
       "      <td>Role-Playing</td>\n",
       "      <td>Nintendo</td>\n",
       "      <td>31.37</td>\n",
       "      <td>0</td>\n",
       "    </tr>\n",
       "  </tbody>\n",
       "</table>\n",
       "</div>"
      ],
      "text/plain": [
       "                       Name Platform    Year         Genre Publisher  \\\n",
       "0                Wii Sports      Wii  2006.0        Sports  Nintendo   \n",
       "1         Super Mario Bros.      NES  1985.0      Platform  Nintendo   \n",
       "2            Mario Kart Wii      Wii  2008.0        Racing  Nintendo   \n",
       "3         Wii Sports Resort      Wii  2009.0        Sports  Nintendo   \n",
       "4  Pokemon Red/Pokemon Blue       GB  1996.0  Role-Playing  Nintendo   \n",
       "\n",
       "   Global_Sales  Remake  \n",
       "0         82.74       0  \n",
       "1         40.24       0  \n",
       "2         35.82       0  \n",
       "3         33.00       0  \n",
       "4         31.37       0  "
      ]
     },
     "execution_count": 9,
     "metadata": {},
     "output_type": "execute_result"
    }
   ],
   "source": [
    "sglobal_nn['Remake'] = sglobal_nn['Remake'].astype(int)\n",
    "sglobal_nn.head()"
   ]
  },
  {
   "cell_type": "code",
   "execution_count": 10,
   "metadata": {
    "scrolled": true
   },
   "outputs": [
    {
     "data": {
      "text/html": [
       "<div>\n",
       "<style scoped>\n",
       "    .dataframe tbody tr th:only-of-type {\n",
       "        vertical-align: middle;\n",
       "    }\n",
       "\n",
       "    .dataframe tbody tr th {\n",
       "        vertical-align: top;\n",
       "    }\n",
       "\n",
       "    .dataframe thead th {\n",
       "        text-align: right;\n",
       "    }\n",
       "</style>\n",
       "<table border=\"1\" class=\"dataframe\">\n",
       "  <thead>\n",
       "    <tr style=\"text-align: right;\">\n",
       "      <th></th>\n",
       "      <th>Platform</th>\n",
       "      <th>Year</th>\n",
       "      <th>Genre</th>\n",
       "      <th>Publisher</th>\n",
       "      <th>Global_Sales</th>\n",
       "      <th>Remake</th>\n",
       "    </tr>\n",
       "  </thead>\n",
       "  <tbody>\n",
       "    <tr>\n",
       "      <th>0</th>\n",
       "      <td>Wii</td>\n",
       "      <td>2006.0</td>\n",
       "      <td>Sports</td>\n",
       "      <td>Nintendo</td>\n",
       "      <td>82.74</td>\n",
       "      <td>0</td>\n",
       "    </tr>\n",
       "    <tr>\n",
       "      <th>1</th>\n",
       "      <td>NES</td>\n",
       "      <td>1985.0</td>\n",
       "      <td>Platform</td>\n",
       "      <td>Nintendo</td>\n",
       "      <td>40.24</td>\n",
       "      <td>0</td>\n",
       "    </tr>\n",
       "    <tr>\n",
       "      <th>2</th>\n",
       "      <td>Wii</td>\n",
       "      <td>2008.0</td>\n",
       "      <td>Racing</td>\n",
       "      <td>Nintendo</td>\n",
       "      <td>35.82</td>\n",
       "      <td>0</td>\n",
       "    </tr>\n",
       "    <tr>\n",
       "      <th>3</th>\n",
       "      <td>Wii</td>\n",
       "      <td>2009.0</td>\n",
       "      <td>Sports</td>\n",
       "      <td>Nintendo</td>\n",
       "      <td>33.00</td>\n",
       "      <td>0</td>\n",
       "    </tr>\n",
       "    <tr>\n",
       "      <th>4</th>\n",
       "      <td>GB</td>\n",
       "      <td>1996.0</td>\n",
       "      <td>Role-Playing</td>\n",
       "      <td>Nintendo</td>\n",
       "      <td>31.37</td>\n",
       "      <td>0</td>\n",
       "    </tr>\n",
       "  </tbody>\n",
       "</table>\n",
       "</div>"
      ],
      "text/plain": [
       "  Platform    Year         Genre Publisher  Global_Sales  Remake\n",
       "0      Wii  2006.0        Sports  Nintendo         82.74       0\n",
       "1      NES  1985.0      Platform  Nintendo         40.24       0\n",
       "2      Wii  2008.0        Racing  Nintendo         35.82       0\n",
       "3      Wii  2009.0        Sports  Nintendo         33.00       0\n",
       "4       GB  1996.0  Role-Playing  Nintendo         31.37       0"
      ]
     },
     "execution_count": 10,
     "metadata": {},
     "output_type": "execute_result"
    }
   ],
   "source": [
    "sglobal_nn = sglobal_nn.drop('Name', axis='columns')\n",
    "sglobal_nn.head()"
   ]
  },
  {
   "cell_type": "markdown",
   "metadata": {},
   "source": [
    "#### Removing Wii Sports"
   ]
  },
  {
   "cell_type": "code",
   "execution_count": 11,
   "metadata": {},
   "outputs": [],
   "source": [
    "sglobal_nn.drop(index = [1], axis=0, inplace=True) #This value throws off the mean by a large margin."
   ]
  },
  {
   "cell_type": "markdown",
   "metadata": {},
   "source": [
    "#### Removing Outliers"
   ]
  },
  {
   "cell_type": "code",
   "execution_count": 12,
   "metadata": {},
   "outputs": [
    {
     "data": {
      "text/plain": [
       "count    16290.000000\n",
       "mean         0.538473\n",
       "std          1.536216\n",
       "min          0.010000\n",
       "25%          0.060000\n",
       "50%          0.170000\n",
       "75%          0.480000\n",
       "max         82.740000\n",
       "Name: Global_Sales, dtype: float64"
      ]
     },
     "execution_count": 12,
     "metadata": {},
     "output_type": "execute_result"
    }
   ],
   "source": [
    "sglobal_nn.Global_Sales.describe()"
   ]
  },
  {
   "cell_type": "code",
   "execution_count": 13,
   "metadata": {},
   "outputs": [],
   "source": [
    "mean = sglobal_nn.Global_Sales.mean()\n",
    "stddev = sglobal_nn.Global_Sales.std()\n",
    "cutoff = stddev*3\n",
    "lowerrange = mean - cutoff\n",
    "upperrange = mean + cutoff"
   ]
  },
  {
   "cell_type": "code",
   "execution_count": 14,
   "metadata": {},
   "outputs": [
    {
     "data": {
      "text/html": [
       "<div>\n",
       "<style scoped>\n",
       "    .dataframe tbody tr th:only-of-type {\n",
       "        vertical-align: middle;\n",
       "    }\n",
       "\n",
       "    .dataframe tbody tr th {\n",
       "        vertical-align: top;\n",
       "    }\n",
       "\n",
       "    .dataframe thead th {\n",
       "        text-align: right;\n",
       "    }\n",
       "</style>\n",
       "<table border=\"1\" class=\"dataframe\">\n",
       "  <thead>\n",
       "    <tr style=\"text-align: right;\">\n",
       "      <th></th>\n",
       "      <th>Platform</th>\n",
       "      <th>Year</th>\n",
       "      <th>Genre</th>\n",
       "      <th>Publisher</th>\n",
       "      <th>Global_Sales</th>\n",
       "      <th>Remake</th>\n",
       "    </tr>\n",
       "  </thead>\n",
       "  <tbody>\n",
       "    <tr>\n",
       "      <th>189</th>\n",
       "      <td>DS</td>\n",
       "      <td>2008.0</td>\n",
       "      <td>Sports</td>\n",
       "      <td>Sega</td>\n",
       "      <td>5.14</td>\n",
       "      <td>1</td>\n",
       "    </tr>\n",
       "    <tr>\n",
       "      <th>190</th>\n",
       "      <td>PS2</td>\n",
       "      <td>2003.0</td>\n",
       "      <td>Shooter</td>\n",
       "      <td>Electronic Arts</td>\n",
       "      <td>5.13</td>\n",
       "      <td>0</td>\n",
       "    </tr>\n",
       "    <tr>\n",
       "      <th>191</th>\n",
       "      <td>GB</td>\n",
       "      <td>1992.0</td>\n",
       "      <td>Platform</td>\n",
       "      <td>Nintendo</td>\n",
       "      <td>5.13</td>\n",
       "      <td>0</td>\n",
       "    </tr>\n",
       "    <tr>\n",
       "      <th>192</th>\n",
       "      <td>X360</td>\n",
       "      <td>2010.0</td>\n",
       "      <td>Role-Playing</td>\n",
       "      <td>Microsoft Game Studios</td>\n",
       "      <td>5.13</td>\n",
       "      <td>0</td>\n",
       "    </tr>\n",
       "    <tr>\n",
       "      <th>193</th>\n",
       "      <td>XOne</td>\n",
       "      <td>2014.0</td>\n",
       "      <td>Shooter</td>\n",
       "      <td>Activision</td>\n",
       "      <td>5.13</td>\n",
       "      <td>1</td>\n",
       "    </tr>\n",
       "  </tbody>\n",
       "</table>\n",
       "</div>"
      ],
      "text/plain": [
       "    Platform    Year         Genre               Publisher  Global_Sales  \\\n",
       "189       DS  2008.0        Sports                    Sega          5.14   \n",
       "190      PS2  2003.0       Shooter         Electronic Arts          5.13   \n",
       "191       GB  1992.0      Platform                Nintendo          5.13   \n",
       "192     X360  2010.0  Role-Playing  Microsoft Game Studios          5.13   \n",
       "193     XOne  2014.0       Shooter              Activision          5.13   \n",
       "\n",
       "     Remake  \n",
       "189       1  \n",
       "190       0  \n",
       "191       0  \n",
       "192       0  \n",
       "193       1  "
      ]
     },
     "execution_count": 14,
     "metadata": {},
     "output_type": "execute_result"
    }
   ],
   "source": [
    "sglobal_nooutliers = sglobal_nn[(sglobal_nn['Global_Sales'] > lowerrange) & (sglobal_nn['Global_Sales'] < upperrange)]\n",
    "sglobal_nooutliers.head()"
   ]
  },
  {
   "cell_type": "code",
   "execution_count": 15,
   "metadata": {},
   "outputs": [
    {
     "data": {
      "image/png": "[encoded data removed]",
      "text/plain": [
       "<Figure size 432x288 with 1 Axes>"
      ]
     },
     "metadata": {},
     "output_type": "display_data"
    }
   ],
   "source": [
    "sns.set_style('darkgrid')\n",
    "sns.scatterplot(sglobal_nooutliers.Year, sglobal_nooutliers.Global_Sales)\n",
    "plt.title('Game Sales by Year')\n",
    "plt.ylabel('Global Sales')\n",
    "plt.show();"
   ]
  },
  {
   "cell_type": "markdown",
   "metadata": {},
   "source": [
    "## Coding the first model series"
   ]
  },
  {
   "cell_type": "code",
   "execution_count": 21,
   "metadata": {},
   "outputs": [],
   "source": [
    "y = sglobal_nooutliers['Global_Sales']\n",
    "X = sglobal_nooutliers.drop('Global_Sales', axis=1)"
   ]
  },
  {
   "cell_type": "code",
   "execution_count": 22,
   "metadata": {},
   "outputs": [],
   "source": [
    "X_train, X_test, y_train, y_test = train_test_split(X, y, test_size=.20, random_state=42)"
   ]
  },
  {
   "cell_type": "code",
   "execution_count": 23,
   "metadata": {},
   "outputs": [],
   "source": [
    "# OneHotEncoding X_train and X_test columns\n",
    "\n",
    "ohe = OneHotEncoder(handle_unknown='ignore')\n",
    "\n",
    "ohe.fit(X_train[['Platform', 'Genre', 'Publisher']])\n",
    "\n",
    "ohe_cats = pd.DataFrame(ohe.transform(X_train[['Platform', 'Genre', 'Publisher']]).todense(), \n",
    "                        columns=ohe.get_feature_names(),index=X_train.index)\n",
    "\n",
    "ohe_cats_test= pd.DataFrame(ohe.transform(X_test[['Platform', 'Genre', 'Publisher']]).todense(), \n",
    "                        columns=ohe.get_feature_names(),index=X_test.index)\n"
   ]
  },
  {
   "cell_type": "code",
   "execution_count": 24,
   "metadata": {},
   "outputs": [],
   "source": [
    "# Dropping the unnecessary columns\n",
    "X_train.drop(columns=['Platform', 'Genre', 'Publisher'], axis=1, inplace=True)\n",
    "X_test.drop(columns=['Platform', 'Genre', 'Publisher'], axis=1, inplace=True)"
   ]
  },
  {
   "cell_type": "code",
   "execution_count": 25,
   "metadata": {},
   "outputs": [],
   "source": [
    "# Concatenating the one hotted columns\n",
    "X_train_ohe = pd.concat((X_train, ohe_cats), axis=1)\n",
    "X_test_ohe = pd.concat((X_test, ohe_cats_test), axis=1)"
   ]
  },
  {
   "cell_type": "code",
   "execution_count": 26,
   "metadata": {},
   "outputs": [
    {
     "data": {
      "text/html": [
       "<div>\n",
       "<style scoped>\n",
       "    .dataframe tbody tr th:only-of-type {\n",
       "        vertical-align: middle;\n",
       "    }\n",
       "\n",
       "    .dataframe tbody tr th {\n",
       "        vertical-align: top;\n",
       "    }\n",
       "\n",
       "    .dataframe thead th {\n",
       "        text-align: right;\n",
       "    }\n",
       "</style>\n",
       "<table border=\"1\" class=\"dataframe\">\n",
       "  <thead>\n",
       "    <tr style=\"text-align: right;\">\n",
       "      <th></th>\n",
       "      <th>Year</th>\n",
       "      <th>Remake</th>\n",
       "      <th>x0_2600</th>\n",
       "      <th>x0_3DO</th>\n",
       "      <th>x0_3DS</th>\n",
       "      <th>x0_DC</th>\n",
       "      <th>x0_DS</th>\n",
       "      <th>x0_GB</th>\n",
       "      <th>x0_GBA</th>\n",
       "      <th>x0_GC</th>\n",
       "      <th>...</th>\n",
       "      <th>x2_Zoo Digital Publishing</th>\n",
       "      <th>x2_Zoo Games</th>\n",
       "      <th>x2_Zushi Games</th>\n",
       "      <th>x2_bitComposer Games</th>\n",
       "      <th>x2_dramatic create</th>\n",
       "      <th>x2_fonfun</th>\n",
       "      <th>x2_iWin</th>\n",
       "      <th>x2_imageepoch Inc.</th>\n",
       "      <th>x2_inXile Entertainment</th>\n",
       "      <th>x2_responDESIGN</th>\n",
       "    </tr>\n",
       "  </thead>\n",
       "  <tbody>\n",
       "    <tr>\n",
       "      <th>7655</th>\n",
       "      <td>1996.0</td>\n",
       "      <td>0</td>\n",
       "      <td>0.0</td>\n",
       "      <td>0.0</td>\n",
       "      <td>0.0</td>\n",
       "      <td>0.0</td>\n",
       "      <td>0.0</td>\n",
       "      <td>0.0</td>\n",
       "      <td>0.0</td>\n",
       "      <td>0.0</td>\n",
       "      <td>...</td>\n",
       "      <td>0.0</td>\n",
       "      <td>0.0</td>\n",
       "      <td>0.0</td>\n",
       "      <td>0.0</td>\n",
       "      <td>0.0</td>\n",
       "      <td>0.0</td>\n",
       "      <td>0.0</td>\n",
       "      <td>0.0</td>\n",
       "      <td>0.0</td>\n",
       "      <td>0.0</td>\n",
       "    </tr>\n",
       "    <tr>\n",
       "      <th>10412</th>\n",
       "      <td>2010.0</td>\n",
       "      <td>0</td>\n",
       "      <td>0.0</td>\n",
       "      <td>0.0</td>\n",
       "      <td>0.0</td>\n",
       "      <td>0.0</td>\n",
       "      <td>0.0</td>\n",
       "      <td>0.0</td>\n",
       "      <td>0.0</td>\n",
       "      <td>0.0</td>\n",
       "      <td>...</td>\n",
       "      <td>0.0</td>\n",
       "      <td>0.0</td>\n",
       "      <td>0.0</td>\n",
       "      <td>0.0</td>\n",
       "      <td>0.0</td>\n",
       "      <td>0.0</td>\n",
       "      <td>0.0</td>\n",
       "      <td>0.0</td>\n",
       "      <td>0.0</td>\n",
       "      <td>0.0</td>\n",
       "    </tr>\n",
       "    <tr>\n",
       "      <th>8444</th>\n",
       "      <td>2016.0</td>\n",
       "      <td>0</td>\n",
       "      <td>0.0</td>\n",
       "      <td>0.0</td>\n",
       "      <td>1.0</td>\n",
       "      <td>0.0</td>\n",
       "      <td>0.0</td>\n",
       "      <td>0.0</td>\n",
       "      <td>0.0</td>\n",
       "      <td>0.0</td>\n",
       "      <td>...</td>\n",
       "      <td>0.0</td>\n",
       "      <td>0.0</td>\n",
       "      <td>0.0</td>\n",
       "      <td>0.0</td>\n",
       "      <td>0.0</td>\n",
       "      <td>0.0</td>\n",
       "      <td>0.0</td>\n",
       "      <td>0.0</td>\n",
       "      <td>0.0</td>\n",
       "      <td>0.0</td>\n",
       "    </tr>\n",
       "    <tr>\n",
       "      <th>7549</th>\n",
       "      <td>2009.0</td>\n",
       "      <td>1</td>\n",
       "      <td>0.0</td>\n",
       "      <td>0.0</td>\n",
       "      <td>0.0</td>\n",
       "      <td>0.0</td>\n",
       "      <td>0.0</td>\n",
       "      <td>0.0</td>\n",
       "      <td>0.0</td>\n",
       "      <td>0.0</td>\n",
       "      <td>...</td>\n",
       "      <td>0.0</td>\n",
       "      <td>0.0</td>\n",
       "      <td>0.0</td>\n",
       "      <td>0.0</td>\n",
       "      <td>0.0</td>\n",
       "      <td>0.0</td>\n",
       "      <td>0.0</td>\n",
       "      <td>0.0</td>\n",
       "      <td>0.0</td>\n",
       "      <td>0.0</td>\n",
       "    </tr>\n",
       "    <tr>\n",
       "      <th>12124</th>\n",
       "      <td>2011.0</td>\n",
       "      <td>1</td>\n",
       "      <td>0.0</td>\n",
       "      <td>0.0</td>\n",
       "      <td>0.0</td>\n",
       "      <td>0.0</td>\n",
       "      <td>0.0</td>\n",
       "      <td>0.0</td>\n",
       "      <td>0.0</td>\n",
       "      <td>0.0</td>\n",
       "      <td>...</td>\n",
       "      <td>0.0</td>\n",
       "      <td>0.0</td>\n",
       "      <td>0.0</td>\n",
       "      <td>0.0</td>\n",
       "      <td>0.0</td>\n",
       "      <td>0.0</td>\n",
       "      <td>0.0</td>\n",
       "      <td>0.0</td>\n",
       "      <td>0.0</td>\n",
       "      <td>0.0</td>\n",
       "    </tr>\n",
       "  </tbody>\n",
       "</table>\n",
       "<p>5 rows × 579 columns</p>\n",
       "</div>"
      ],
      "text/plain": [
       "         Year  Remake  x0_2600  x0_3DO  x0_3DS  x0_DC  x0_DS  x0_GB  x0_GBA  \\\n",
       "7655   1996.0       0      0.0     0.0     0.0    0.0    0.0    0.0     0.0   \n",
       "10412  2010.0       0      0.0     0.0     0.0    0.0    0.0    0.0     0.0   \n",
       "8444   2016.0       0      0.0     0.0     1.0    0.0    0.0    0.0     0.0   \n",
       "7549   2009.0       1      0.0     0.0     0.0    0.0    0.0    0.0     0.0   \n",
       "12124  2011.0       1      0.0     0.0     0.0    0.0    0.0    0.0     0.0   \n",
       "\n",
       "       x0_GC  ...  x2_Zoo Digital Publishing  x2_Zoo Games  x2_Zushi Games  \\\n",
       "7655     0.0  ...                        0.0           0.0             0.0   \n",
       "10412    0.0  ...                        0.0           0.0             0.0   \n",
       "8444     0.0  ...                        0.0           0.0             0.0   \n",
       "7549     0.0  ...                        0.0           0.0             0.0   \n",
       "12124    0.0  ...                        0.0           0.0             0.0   \n",
       "\n",
       "       x2_bitComposer Games  x2_dramatic create  x2_fonfun  x2_iWin  \\\n",
       "7655                    0.0                 0.0        0.0      0.0   \n",
       "10412                   0.0                 0.0        0.0      0.0   \n",
       "8444                    0.0                 0.0        0.0      0.0   \n",
       "7549                    0.0                 0.0        0.0      0.0   \n",
       "12124                   0.0                 0.0        0.0      0.0   \n",
       "\n",
       "       x2_imageepoch Inc.  x2_inXile Entertainment  x2_responDESIGN  \n",
       "7655                  0.0                      0.0              0.0  \n",
       "10412                 0.0                      0.0              0.0  \n",
       "8444                  0.0                      0.0              0.0  \n",
       "7549                  0.0                      0.0              0.0  \n",
       "12124                 0.0                      0.0              0.0  \n",
       "\n",
       "[5 rows x 579 columns]"
      ]
     },
     "execution_count": 26,
     "metadata": {},
     "output_type": "execute_result"
    }
   ],
   "source": [
    "X_train_ohe.head()"
   ]
  },
  {
   "cell_type": "code",
   "execution_count": 27,
   "metadata": {},
   "outputs": [
    {
     "data": {
      "text/html": [
       "<div>\n",
       "<style scoped>\n",
       "    .dataframe tbody tr th:only-of-type {\n",
       "        vertical-align: middle;\n",
       "    }\n",
       "\n",
       "    .dataframe tbody tr th {\n",
       "        vertical-align: top;\n",
       "    }\n",
       "\n",
       "    .dataframe thead th {\n",
       "        text-align: right;\n",
       "    }\n",
       "</style>\n",
       "<table border=\"1\" class=\"dataframe\">\n",
       "  <thead>\n",
       "    <tr style=\"text-align: right;\">\n",
       "      <th></th>\n",
       "      <th>Year</th>\n",
       "      <th>Remake</th>\n",
       "      <th>x0_2600</th>\n",
       "      <th>x0_3DO</th>\n",
       "      <th>x0_3DS</th>\n",
       "      <th>x0_DC</th>\n",
       "      <th>x0_DS</th>\n",
       "      <th>x0_GB</th>\n",
       "      <th>x0_GBA</th>\n",
       "      <th>x0_GC</th>\n",
       "      <th>...</th>\n",
       "      <th>x2_Zoo Digital Publishing</th>\n",
       "      <th>x2_Zoo Games</th>\n",
       "      <th>x2_Zushi Games</th>\n",
       "      <th>x2_bitComposer Games</th>\n",
       "      <th>x2_dramatic create</th>\n",
       "      <th>x2_fonfun</th>\n",
       "      <th>x2_iWin</th>\n",
       "      <th>x2_imageepoch Inc.</th>\n",
       "      <th>x2_inXile Entertainment</th>\n",
       "      <th>x2_responDESIGN</th>\n",
       "    </tr>\n",
       "  </thead>\n",
       "  <tbody>\n",
       "    <tr>\n",
       "      <th>2956</th>\n",
       "      <td>1993.0</td>\n",
       "      <td>0</td>\n",
       "      <td>0.0</td>\n",
       "      <td>0.0</td>\n",
       "      <td>0.0</td>\n",
       "      <td>0.0</td>\n",
       "      <td>0.0</td>\n",
       "      <td>0.0</td>\n",
       "      <td>0.0</td>\n",
       "      <td>0.0</td>\n",
       "      <td>...</td>\n",
       "      <td>0.0</td>\n",
       "      <td>0.0</td>\n",
       "      <td>0.0</td>\n",
       "      <td>0.0</td>\n",
       "      <td>0.0</td>\n",
       "      <td>0.0</td>\n",
       "      <td>0.0</td>\n",
       "      <td>0.0</td>\n",
       "      <td>0.0</td>\n",
       "      <td>0.0</td>\n",
       "    </tr>\n",
       "    <tr>\n",
       "      <th>15943</th>\n",
       "      <td>2013.0</td>\n",
       "      <td>0</td>\n",
       "      <td>0.0</td>\n",
       "      <td>0.0</td>\n",
       "      <td>0.0</td>\n",
       "      <td>0.0</td>\n",
       "      <td>0.0</td>\n",
       "      <td>0.0</td>\n",
       "      <td>0.0</td>\n",
       "      <td>0.0</td>\n",
       "      <td>...</td>\n",
       "      <td>0.0</td>\n",
       "      <td>0.0</td>\n",
       "      <td>0.0</td>\n",
       "      <td>0.0</td>\n",
       "      <td>0.0</td>\n",
       "      <td>0.0</td>\n",
       "      <td>0.0</td>\n",
       "      <td>0.0</td>\n",
       "      <td>0.0</td>\n",
       "      <td>0.0</td>\n",
       "    </tr>\n",
       "    <tr>\n",
       "      <th>8657</th>\n",
       "      <td>2016.0</td>\n",
       "      <td>0</td>\n",
       "      <td>0.0</td>\n",
       "      <td>0.0</td>\n",
       "      <td>0.0</td>\n",
       "      <td>0.0</td>\n",
       "      <td>0.0</td>\n",
       "      <td>0.0</td>\n",
       "      <td>0.0</td>\n",
       "      <td>0.0</td>\n",
       "      <td>...</td>\n",
       "      <td>0.0</td>\n",
       "      <td>0.0</td>\n",
       "      <td>0.0</td>\n",
       "      <td>0.0</td>\n",
       "      <td>0.0</td>\n",
       "      <td>0.0</td>\n",
       "      <td>0.0</td>\n",
       "      <td>0.0</td>\n",
       "      <td>0.0</td>\n",
       "      <td>0.0</td>\n",
       "    </tr>\n",
       "    <tr>\n",
       "      <th>9044</th>\n",
       "      <td>2004.0</td>\n",
       "      <td>0</td>\n",
       "      <td>0.0</td>\n",
       "      <td>0.0</td>\n",
       "      <td>0.0</td>\n",
       "      <td>0.0</td>\n",
       "      <td>0.0</td>\n",
       "      <td>0.0</td>\n",
       "      <td>0.0</td>\n",
       "      <td>0.0</td>\n",
       "      <td>...</td>\n",
       "      <td>0.0</td>\n",
       "      <td>0.0</td>\n",
       "      <td>0.0</td>\n",
       "      <td>0.0</td>\n",
       "      <td>0.0</td>\n",
       "      <td>0.0</td>\n",
       "      <td>0.0</td>\n",
       "      <td>0.0</td>\n",
       "      <td>0.0</td>\n",
       "      <td>0.0</td>\n",
       "    </tr>\n",
       "    <tr>\n",
       "      <th>8373</th>\n",
       "      <td>2000.0</td>\n",
       "      <td>1</td>\n",
       "      <td>0.0</td>\n",
       "      <td>0.0</td>\n",
       "      <td>0.0</td>\n",
       "      <td>0.0</td>\n",
       "      <td>0.0</td>\n",
       "      <td>0.0</td>\n",
       "      <td>0.0</td>\n",
       "      <td>0.0</td>\n",
       "      <td>...</td>\n",
       "      <td>0.0</td>\n",
       "      <td>0.0</td>\n",
       "      <td>0.0</td>\n",
       "      <td>0.0</td>\n",
       "      <td>0.0</td>\n",
       "      <td>0.0</td>\n",
       "      <td>0.0</td>\n",
       "      <td>0.0</td>\n",
       "      <td>0.0</td>\n",
       "      <td>0.0</td>\n",
       "    </tr>\n",
       "  </tbody>\n",
       "</table>\n",
       "<p>5 rows × 579 columns</p>\n",
       "</div>"
      ],
      "text/plain": [
       "         Year  Remake  x0_2600  x0_3DO  x0_3DS  x0_DC  x0_DS  x0_GB  x0_GBA  \\\n",
       "2956   1993.0       0      0.0     0.0     0.0    0.0    0.0    0.0     0.0   \n",
       "15943  2013.0       0      0.0     0.0     0.0    0.0    0.0    0.0     0.0   \n",
       "8657   2016.0       0      0.0     0.0     0.0    0.0    0.0    0.0     0.0   \n",
       "9044   2004.0       0      0.0     0.0     0.0    0.0    0.0    0.0     0.0   \n",
       "8373   2000.0       1      0.0     0.0     0.0    0.0    0.0    0.0     0.0   \n",
       "\n",
       "       x0_GC  ...  x2_Zoo Digital Publishing  x2_Zoo Games  x2_Zushi Games  \\\n",
       "2956     0.0  ...                        0.0           0.0             0.0   \n",
       "15943    0.0  ...                        0.0           0.0             0.0   \n",
       "8657     0.0  ...                        0.0           0.0             0.0   \n",
       "9044     0.0  ...                        0.0           0.0             0.0   \n",
       "8373     0.0  ...                        0.0           0.0             0.0   \n",
       "\n",
       "       x2_bitComposer Games  x2_dramatic create  x2_fonfun  x2_iWin  \\\n",
       "2956                    0.0                 0.0        0.0      0.0   \n",
       "15943                   0.0                 0.0        0.0      0.0   \n",
       "8657                    0.0                 0.0        0.0      0.0   \n",
       "9044                    0.0                 0.0        0.0      0.0   \n",
       "8373                    0.0                 0.0        0.0      0.0   \n",
       "\n",
       "       x2_imageepoch Inc.  x2_inXile Entertainment  x2_responDESIGN  \n",
       "2956                  0.0                      0.0              0.0  \n",
       "15943                 0.0                      0.0              0.0  \n",
       "8657                  0.0                      0.0              0.0  \n",
       "9044                  0.0                      0.0              0.0  \n",
       "8373                  0.0                      0.0              0.0  \n",
       "\n",
       "[5 rows x 579 columns]"
      ]
     },
     "execution_count": 27,
     "metadata": {},
     "output_type": "execute_result"
    }
   ],
   "source": [
    "X_test_ohe.head()"
   ]
  },
  {
   "cell_type": "code",
   "execution_count": 28,
   "metadata": {},
   "outputs": [],
   "source": [
    "ss = StandardScaler()\n",
    "\n",
    "X_train_ohe_ss = ss.fit_transform(X_train_ohe)\n",
    "X_test_ohe_ss = ss.transform(X_test_ohe)"
   ]
  },
  {
   "cell_type": "markdown",
   "metadata": {},
   "source": [
    "### Linear Regression"
   ]
  },
  {
   "cell_type": "code",
   "execution_count": 29,
   "metadata": {},
   "outputs": [
    {
     "name": "stdout",
     "output_type": "stream",
     "text": [
      "0.23463689590590198\n",
      "0.3481847030750696\n"
     ]
    }
   ],
   "source": [
    "random.seed(a=42)\n",
    "linreg = LinearRegression()\n",
    "\n",
    "linreg.fit(X_train_ohe_ss, y_train)\n",
    "\n",
    "print(linreg.score(X_train_ohe_ss, y_train))\n",
    "print(mean_absolute_error(y_train, linreg.predict(X_train_ohe_ss)))"
   ]
  },
  {
   "cell_type": "code",
   "execution_count": 30,
   "metadata": {},
   "outputs": [
    {
     "data": {
      "text/plain": [
       "array([-1.54432870e+28, -1.53140117e+28, -3.13826094e+28])"
      ]
     },
     "execution_count": 30,
     "metadata": {},
     "output_type": "execute_result"
    }
   ],
   "source": [
    "cross_val_score(linreg, X_train_ohe_ss, y_train, cv=3)"
   ]
  },
  {
   "cell_type": "code",
   "execution_count": 31,
   "metadata": {},
   "outputs": [
    {
     "name": "stdout",
     "output_type": "stream",
     "text": [
      "-1.0222744676709043e+20\n",
      "855444138.694134\n"
     ]
    }
   ],
   "source": [
    "print(linreg.score(X_test_ohe_ss, y_test))\n",
    "print(mean_absolute_error(y_test, linreg.predict(X_test_ohe_ss)))"
   ]
  },
  {
   "cell_type": "code",
   "execution_count": 32,
   "metadata": {},
   "outputs": [
    {
     "data": {
      "image/png": "[encoded data removed]",
      "text/plain": [
       "<Figure size 432x288 with 1 Axes>"
      ]
     },
     "metadata": {},
     "output_type": "display_data"
    }
   ],
   "source": [
    "sns.regplot(y_test, linreg.predict(X_test_ohe_ss), ci=False, \n",
    "            scatter_kws={'alpha': 0.2}, line_kws={\"color\": \"grey\"})\n",
    "plt.title('Projected Sales Linear Regression')\n",
    "plt.xlabel('Sales Values')\n",
    "plt.ylabel('Projected Sales');"
   ]
  },
  {
   "cell_type": "code",
   "execution_count": 33,
   "metadata": {},
   "outputs": [
    {
     "data": {
      "image/png": "[encoded data removed]",
      "text/plain": [
       "<Figure size 432x288 with 1 Axes>"
      ]
     },
     "metadata": {},
     "output_type": "display_data"
    }
   ],
   "source": [
    "sns.residplot(y_test, linreg.predict(X_test_ohe_ss), scatter_kws={'alpha': 0.2})\n",
    "plt.title('Linear Regression Residuals')\n",
    "plt.xlabel('Fitted Values')\n",
    "plt.ylabel('Residuals');"
   ]
  },
  {
   "cell_type": "markdown",
   "metadata": {},
   "source": [
    "### Ridge Regression"
   ]
  },
  {
   "cell_type": "code",
   "execution_count": 34,
   "metadata": {},
   "outputs": [
    {
     "name": "stdout",
     "output_type": "stream",
     "text": [
      "0.2346453981291231\n",
      "0.3480765591623644\n"
     ]
    }
   ],
   "source": [
    "ridge = Ridge(alpha=4, random_state=42)\n",
    "\n",
    "ridge.fit(X_train_ohe_ss, y_train)\n",
    "print(ridge.score(X_train_ohe_ss, y_train))\n",
    "print(mean_absolute_error(y_train, ridge.predict(X_train_ohe_ss)))"
   ]
  },
  {
   "cell_type": "code",
   "execution_count": 35,
   "metadata": {},
   "outputs": [
    {
     "data": {
      "text/plain": [
       "0.20095938948653555"
      ]
     },
     "execution_count": 35,
     "metadata": {},
     "output_type": "execute_result"
    }
   ],
   "source": [
    "cross_val_score(ridge, X_train_ohe_ss, y_train, cv = 3).mean()"
   ]
  },
  {
   "cell_type": "code",
   "execution_count": 36,
   "metadata": {},
   "outputs": [
    {
     "name": "stdout",
     "output_type": "stream",
     "text": [
      "0.19420042648281133\n",
      "0.3625678564767762\n"
     ]
    }
   ],
   "source": [
    "print(ridge.score(X_test_ohe_ss, y_test))\n",
    "print(mean_absolute_error(y_test, ridge.predict(X_test_ohe_ss)))"
   ]
  },
  {
   "cell_type": "code",
   "execution_count": 37,
   "metadata": {},
   "outputs": [
    {
     "data": {
      "image/png": "[encoded data removed]",
      "text/plain": [
       "<Figure size 432x288 with 1 Axes>"
      ]
     },
     "metadata": {},
     "output_type": "display_data"
    }
   ],
   "source": [
    "sns.regplot(y_test, ridge.predict(X_test_ohe_ss), ci=False, \n",
    "            scatter_kws={'alpha': 0.2}, line_kws={\"color\": \"grey\"})\n",
    "plt.title('Actual vs. Projected Sales ')\n",
    "plt.xlabel('Sales Values')\n",
    "plt.ylabel('Projected Sales');"
   ]
  },
  {
   "cell_type": "code",
   "execution_count": 38,
   "metadata": {},
   "outputs": [
    {
     "data": {
      "image/png": "[encoded data removed]",
      "text/plain": [
       "<Figure size 432x288 with 1 Axes>"
      ]
     },
     "metadata": {},
     "output_type": "display_data"
    }
   ],
   "source": [
    "sns.residplot(y_test, ridge.predict(X_test_ohe_ss), scatter_kws={'alpha': 0.2})\n",
    "plt.title('Residuals of Second Model')\n",
    "plt.xlabel('Fitted Values')\n",
    "plt.ylabel('Residuals');"
   ]
  },
  {
   "cell_type": "markdown",
   "metadata": {},
   "source": [
    "### Lasso Regression"
   ]
  },
  {
   "cell_type": "code",
   "execution_count": 39,
   "metadata": {},
   "outputs": [
    {
     "name": "stdout",
     "output_type": "stream",
     "text": [
      "0.23463017254484442\n",
      "0.34801868838834243\n"
     ]
    }
   ],
   "source": [
    "lasso = Lasso(alpha= .0001)\n",
    "\n",
    "lasso.fit(X_train_ohe_ss, y_train) \n",
    "print(lasso.score(X_train_ohe_ss, y_train))\n",
    "print(mean_absolute_error(y_train, lasso.predict(X_train_ohe_ss)))"
   ]
  },
  {
   "cell_type": "markdown",
   "metadata": {},
   "source": [
    "## Data Collection"
   ]
  },
  {
   "cell_type": "code",
   "execution_count": null,
   "metadata": {},
   "outputs": [],
   "source": [
    "!pip install igdb-api-v4 #Installs the wrapper"
   ]
  },
  {
   "cell_type": "markdown",
   "metadata": {},
   "source": [
    "To collect data from [IGDB](pi-docs.igdb.com/#about) create a twitch account.  If the instructions are follwed at the account creation site for Twitch.tv there shouldn't be a major problem.  When filling in the application the OAuth url was set as \"http://localhost\" to let the system know the data will be run locally then choose analytics tool from the category menu.  Once the application is accepted  a client ID is assigned to you and you can ask for a client secret.  Though this secret is used in the code to collect the data it should not be made public. As such once the code has been run it should be written down or saved to the computer and then deleted from the code.  Once the client ID and client secret have been collected an access token will be needed to collect the data from IGDB.  The request URL is found under the authentification section of the instructions and the client ID and client secret can be filled in to make a successful request.  A wrapper was created to deliver the data in a format comptible with python under wrappers, however, the readme file that shows how to run the data contains an issue that throws an error.  The solution can be found in a discussion entitled 'Main Readme Example Does Not Work' under the issues tab.  "
   ]
  },
  {
   "cell_type": "code",
   "execution_count": null,
   "metadata": {},
   "outputs": [],
   "source": [
    "# Don't upload your client secret\n",
    "client_ID = 'ryht2y9jvswue4yv5ddm894h7qvxdn'\n",
    "client_secret = # Removed for security reasons!\n",
    "\n",
    "r = requests.post(f\"https://id.twitch.tv/oauth2/token?client_id={client_ID}&client_secret={client_secret}&grant_type=client_credentials\")\n",
    "access_token = json.loads(r._content)['access_token']\n",
    "wrapper = IGDBWrapper(client_ID, access_token)"
   ]
  },
  {
   "cell_type": "code",
   "execution_count": null,
   "metadata": {},
   "outputs": [],
   "source": [
    "# converts the information collected with the wrapper into JSON format\n",
    "def bytes_to_json(byte_array):\n",
    "    _  = BytesIO(byte_array)\n",
    "    return json.loads(_.read())"
   ]
  },
  {
   "cell_type": "markdown",
   "metadata": {},
   "source": [
    "The data collected was for the games in the sglobal dataset so the names of the games were used to identify which game data should be returned.  This did not mean that the website would have data on all the games requested so a try/except was set up to allow the request to return None if there was no data so that the request would not throw an error if there were a NaN value.  The final issue to consider when working with this API is that the rate limit for requests is four per second.  For this reason, a counter was set up to space out the information returned which told the machine to wait if it thought the rate would exceed the limit."
   ]
  },
  {
   "cell_type": "code",
   "execution_count": null,
   "metadata": {},
   "outputs": [],
   "source": [
    "# now = datetime.now\n",
    "# window_open=now()\n",
    "# count=0\n",
    "# data=[]\n",
    "# with tqdm(total=len(sglobal)) as pbar:\n",
    "#     for name in sglobal.Name:\n",
    "#         try:\n",
    "#             byte_array = wrapper.api_request(\n",
    "#                     'games',\n",
    "#                     f'fields *; where name = \"{name}\";'\n",
    "#             )\n",
    "#             game_info = bytes_to_json(byte_array)\n",
    "#             if not game_info:\n",
    "#                 game_info=[None]\n",
    "#         except:\n",
    "#             game_info=[None]\n",
    "\n",
    "#         data.append(game_info[0])\n",
    "#         # the rate monitor\n",
    "#         count+=1\n",
    "#         if count % 4 == 0:\n",
    "#             window_close=now()\n",
    "#             difference= window_close-window_open\n",
    "#             if difference.total_seconds() <= 1:\n",
    "#                 sleep(1)\n",
    "#             window_open=now()\n",
    "#         pbar.update(1)"
   ]
  },
  {
   "cell_type": "markdown",
   "metadata": {},
   "source": [
    "#### Pickling "
   ]
  },
  {
   "cell_type": "code",
   "execution_count": null,
   "metadata": {},
   "outputs": [],
   "source": [
    "# # Running this cell saves an instance of the collected data\n",
    "# filename = 'Igdb_data'\n",
    "# outfile = open(filename, 'wb')\n",
    "\n",
    "# pickle.dump(data, outfile)\n",
    "# outfile.close()"
   ]
  },
  {
   "cell_type": "code",
   "execution_count": 40,
   "metadata": {},
   "outputs": [],
   "source": [
    "# Running this cell will import the collected data if there is a problem\n",
    "infile = open('Igdb_data','rb')\n",
    "new_data = pickle.load(infile)\n",
    "infile.close()"
   ]
  },
  {
   "cell_type": "markdown",
   "metadata": {},
   "source": [
    "## Creating new features"
   ]
  },
  {
   "cell_type": "code",
   "execution_count": 41,
   "metadata": {},
   "outputs": [],
   "source": [
    "valid_data = [] \n",
    "for val in new_data: \n",
    "    if val != None : \n",
    "        valid_data.append(val)"
   ]
  },
  {
   "cell_type": "code",
   "execution_count": 42,
   "metadata": {},
   "outputs": [
    {
     "data": {
      "text/plain": [
       "67583     1\n",
       "78349     1\n",
       "122249    1\n",
       "1418      1\n",
       "11663     1\n",
       "         ..\n",
       "2764      1\n",
       "717       1\n",
       "4815      1\n",
       "69164     1\n",
       "20482     1\n",
       "Name: id, Length: 7716, dtype: int64"
      ]
     },
     "execution_count": 42,
     "metadata": {},
     "output_type": "execute_result"
    }
   ],
   "source": [
    "pd.set_option('display.max_columns', None)\n",
    "new_cols = pd.DataFrame(valid_data)\n",
    "new_cols.drop_duplicates(subset='id', inplace=True)\n",
    "new_cols['id'].value_counts()"
   ]
  },
  {
   "cell_type": "code",
   "execution_count": 43,
   "metadata": {
    "scrolled": true
   },
   "outputs": [
    {
     "data": {
      "text/html": [
       "<div>\n",
       "<style scoped>\n",
       "    .dataframe tbody tr th:only-of-type {\n",
       "        vertical-align: middle;\n",
       "    }\n",
       "\n",
       "    .dataframe tbody tr th {\n",
       "        vertical-align: top;\n",
       "    }\n",
       "\n",
       "    .dataframe thead th {\n",
       "        text-align: right;\n",
       "    }\n",
       "</style>\n",
       "<table border=\"1\" class=\"dataframe\">\n",
       "  <thead>\n",
       "    <tr style=\"text-align: right;\">\n",
       "      <th></th>\n",
       "      <th>id</th>\n",
       "      <th>age_ratings</th>\n",
       "      <th>aggregated_rating</th>\n",
       "      <th>aggregated_rating_count</th>\n",
       "      <th>alternative_names</th>\n",
       "      <th>bundles</th>\n",
       "      <th>category</th>\n",
       "      <th>collection</th>\n",
       "      <th>cover</th>\n",
       "      <th>created_at</th>\n",
       "      <th>external_games</th>\n",
       "      <th>first_release_date</th>\n",
       "      <th>follows</th>\n",
       "      <th>game_modes</th>\n",
       "      <th>genres</th>\n",
       "      <th>involved_companies</th>\n",
       "      <th>keywords</th>\n",
       "      <th>name</th>\n",
       "      <th>platforms</th>\n",
       "      <th>player_perspectives</th>\n",
       "      <th>rating</th>\n",
       "      <th>rating_count</th>\n",
       "      <th>release_dates</th>\n",
       "      <th>screenshots</th>\n",
       "      <th>similar_games</th>\n",
       "      <th>slug</th>\n",
       "      <th>summary</th>\n",
       "      <th>tags</th>\n",
       "      <th>themes</th>\n",
       "      <th>total_rating</th>\n",
       "      <th>total_rating_count</th>\n",
       "      <th>updated_at</th>\n",
       "      <th>url</th>\n",
       "      <th>videos</th>\n",
       "      <th>websites</th>\n",
       "      <th>checksum</th>\n",
       "      <th>franchise</th>\n",
       "      <th>franchises</th>\n",
       "      <th>storyline</th>\n",
       "      <th>multiplayer_modes</th>\n",
       "      <th>artworks</th>\n",
       "      <th>game_engines</th>\n",
       "      <th>standalone_expansions</th>\n",
       "      <th>hypes</th>\n",
       "      <th>dlcs</th>\n",
       "      <th>expansions</th>\n",
       "      <th>status</th>\n",
       "      <th>version_parent</th>\n",
       "      <th>version_title</th>\n",
       "      <th>parent_game</th>\n",
       "    </tr>\n",
       "  </thead>\n",
       "  <tbody>\n",
       "    <tr>\n",
       "      <th>0</th>\n",
       "      <td>2181</td>\n",
       "      <td>[189, 26427]</td>\n",
       "      <td>75.00</td>\n",
       "      <td>3.0</td>\n",
       "      <td>[32754]</td>\n",
       "      <td>[130310, 136311]</td>\n",
       "      <td>0</td>\n",
       "      <td>681.0</td>\n",
       "      <td>86110.0</td>\n",
       "      <td>1372204800</td>\n",
       "      <td>[35583, 144876, 221465, 245925, 1928625, 19289...</td>\n",
       "      <td>1.163894e+09</td>\n",
       "      <td>34.0</td>\n",
       "      <td>[1, 2, 4]</td>\n",
       "      <td>[13, 14]</td>\n",
       "      <td>[4658, 22251]</td>\n",
       "      <td>[20, 30, 56, 274, 299, 311, 632, 977, 992, 116...</td>\n",
       "      <td>Wii Sports</td>\n",
       "      <td>[5]</td>\n",
       "      <td>[1, 2]</td>\n",
       "      <td>75.232386</td>\n",
       "      <td>188.0</td>\n",
       "      <td>[27256, 27257, 27258, 27259]</td>\n",
       "      <td>[10247, 10248, 10249, 10250, 10251, 178474, 17...</td>\n",
       "      <td>[1244, 1352, 2182, 2185, 2186, 2194, 3915, 488...</td>\n",
       "      <td>wii-sports</td>\n",
       "      <td>Bowl like a pro or go for that home run...\\nEx...</td>\n",
       "      <td>[40, 268435469, 268435470, 536870932, 53687094...</td>\n",
       "      <td>[40]</td>\n",
       "      <td>75.116193</td>\n",
       "      <td>191.0</td>\n",
       "      <td>1605484800</td>\n",
       "      <td>https://www.igdb.com/games/wii-sports</td>\n",
       "      <td>[1276]</td>\n",
       "      <td>[570, 125920]</td>\n",
       "      <td>7dd08287-257b-4b94-589c-ee707af7c003</td>\n",
       "      <td>NaN</td>\n",
       "      <td>NaN</td>\n",
       "      <td>NaN</td>\n",
       "      <td>NaN</td>\n",
       "      <td>NaN</td>\n",
       "      <td>NaN</td>\n",
       "      <td>NaN</td>\n",
       "      <td>NaN</td>\n",
       "      <td>NaN</td>\n",
       "      <td>NaN</td>\n",
       "      <td>NaN</td>\n",
       "      <td>NaN</td>\n",
       "      <td>NaN</td>\n",
       "      <td>NaN</td>\n",
       "    </tr>\n",
       "    <tr>\n",
       "      <th>1</th>\n",
       "      <td>358</td>\n",
       "      <td>[24, 24927]</td>\n",
       "      <td>NaN</td>\n",
       "      <td>NaN</td>\n",
       "      <td>[31808, 31809, 31810, 31811, 31812, 31813, 31814]</td>\n",
       "      <td>[5199, 9250, 69638, 77227, 77785]</td>\n",
       "      <td>0</td>\n",
       "      <td>6118.0</td>\n",
       "      <td>97418.0</td>\n",
       "      <td>1300320000</td>\n",
       "      <td>[30094, 142871, 190087, 220718, 1611061]</td>\n",
       "      <td>4.954176e+08</td>\n",
       "      <td>363.0</td>\n",
       "      <td>[1, 2]</td>\n",
       "      <td>[8, 31]</td>\n",
       "      <td>[97362, 97363]</td>\n",
       "      <td>[16, 137, 226, 296, 394, 432, 558, 594, 846, 1...</td>\n",
       "      <td>Super Mario Bros.</td>\n",
       "      <td>[5, 18, 24, 37, 41, 51, 130, 307]</td>\n",
       "      <td>[4]</td>\n",
       "      <td>83.849890</td>\n",
       "      <td>802.0</td>\n",
       "      <td>[143761, 143763, 143764, 143765, 143766, 14376...</td>\n",
       "      <td>[379065, 379066, 379067, 379068, 379069]</td>\n",
       "      <td>[1067, 1068, 1075, 1078, 1079, 2180, 3340, 334...</td>\n",
       "      <td>super-mario-bros</td>\n",
       "      <td>A side scrolling 2D platformer and first entry...</td>\n",
       "      <td>[1, 268435464, 268435487, 536870928, 536871049...</td>\n",
       "      <td>[1]</td>\n",
       "      <td>83.849890</td>\n",
       "      <td>802.0</td>\n",
       "      <td>1606003200</td>\n",
       "      <td>https://www.igdb.com/games/super-mario-bros</td>\n",
       "      <td>[35300, 35301]</td>\n",
       "      <td>[4549, 4550]</td>\n",
       "      <td>58df069e-1ee1-a548-2f21-673729e6239d</td>\n",
       "      <td>24.0</td>\n",
       "      <td>[24, 845]</td>\n",
       "      <td>One day, the Mushroom Kingdom was invaded by t...</td>\n",
       "      <td>NaN</td>\n",
       "      <td>NaN</td>\n",
       "      <td>NaN</td>\n",
       "      <td>NaN</td>\n",
       "      <td>NaN</td>\n",
       "      <td>NaN</td>\n",
       "      <td>NaN</td>\n",
       "      <td>NaN</td>\n",
       "      <td>NaN</td>\n",
       "      <td>NaN</td>\n",
       "      <td>NaN</td>\n",
       "    </tr>\n",
       "    <tr>\n",
       "      <th>2</th>\n",
       "      <td>2183</td>\n",
       "      <td>[192, 13218]</td>\n",
       "      <td>71.25</td>\n",
       "      <td>5.0</td>\n",
       "      <td>[34468, 34469, 34470, 34471, 34472, 44750]</td>\n",
       "      <td>NaN</td>\n",
       "      <td>0</td>\n",
       "      <td>449.0</td>\n",
       "      <td>94766.0</td>\n",
       "      <td>1372204800</td>\n",
       "      <td>[35546, 138281, 189061, 218733, 245265, 192841...</td>\n",
       "      <td>1.207786e+09</td>\n",
       "      <td>93.0</td>\n",
       "      <td>[1, 2, 4]</td>\n",
       "      <td>[10]</td>\n",
       "      <td>[4656, 98978]</td>\n",
       "      <td>[25, 280, 350, 2071, 3627, 3863, 4157, 4350, 4...</td>\n",
       "      <td>Mario Kart Wii</td>\n",
       "      <td>[5]</td>\n",
       "      <td>[2]</td>\n",
       "      <td>80.073724</td>\n",
       "      <td>304.0</td>\n",
       "      <td>[134832, 195800, 195801, 195802]</td>\n",
       "      <td>[384196, 384197, 384198, 384199, 384200, 38420...</td>\n",
       "      <td>[1074, 1077, 2344, 2349, 2350, 3772, 79812, 11...</td>\n",
       "      <td>mario-kart-wii</td>\n",
       "      <td>Mario Kart Wii is a multiplayer-oriented racin...</td>\n",
       "      <td>[1, 27, 40, 268435466, 536870937, 536871192, 5...</td>\n",
       "      <td>[1, 27, 40]</td>\n",
       "      <td>75.661862</td>\n",
       "      <td>309.0</td>\n",
       "      <td>1606003200</td>\n",
       "      <td>https://www.igdb.com/games/mario-kart-wii</td>\n",
       "      <td>[1279, 35952]</td>\n",
       "      <td>[573, 52385]</td>\n",
       "      <td>71b06794-6c39-a2eb-d468-c9e7bee35708</td>\n",
       "      <td>24.0</td>\n",
       "      <td>[24, 845]</td>\n",
       "      <td>NaN</td>\n",
       "      <td>NaN</td>\n",
       "      <td>NaN</td>\n",
       "      <td>NaN</td>\n",
       "      <td>NaN</td>\n",
       "      <td>NaN</td>\n",
       "      <td>NaN</td>\n",
       "      <td>NaN</td>\n",
       "      <td>NaN</td>\n",
       "      <td>NaN</td>\n",
       "      <td>NaN</td>\n",
       "      <td>NaN</td>\n",
       "    </tr>\n",
       "    <tr>\n",
       "      <th>3</th>\n",
       "      <td>2182</td>\n",
       "      <td>[190, 13213]</td>\n",
       "      <td>90.00</td>\n",
       "      <td>5.0</td>\n",
       "      <td>[32755, 34781, 44953]</td>\n",
       "      <td>[130310, 136311]</td>\n",
       "      <td>0</td>\n",
       "      <td>681.0</td>\n",
       "      <td>112516.0</td>\n",
       "      <td>1372204800</td>\n",
       "      <td>[35588, 72979, 137871, 221471, 251440, 1928534...</td>\n",
       "      <td>1.248394e+09</td>\n",
       "      <td>19.0</td>\n",
       "      <td>[1, 2, 4]</td>\n",
       "      <td>[14]</td>\n",
       "      <td>[51540, 51541]</td>\n",
       "      <td>[30, 58, 227, 274, 299, 374, 598, 613, 640, 66...</td>\n",
       "      <td>Wii Sports Resort</td>\n",
       "      <td>[5]</td>\n",
       "      <td>[1, 2]</td>\n",
       "      <td>79.216604</td>\n",
       "      <td>79.0</td>\n",
       "      <td>[4514, 144836, 144837]</td>\n",
       "      <td>[27118, 178517, 178518, 178519, 178520, 178521...</td>\n",
       "      <td>[534, 660, 1352, 2181, 2185, 2189, 4881, 18238...</td>\n",
       "      <td>wii-sports-resort</td>\n",
       "      <td>Set off on a journey to a tropical island wher...</td>\n",
       "      <td>[40, 268435470, 536870942, 536870970, 53687113...</td>\n",
       "      <td>[40]</td>\n",
       "      <td>84.608302</td>\n",
       "      <td>84.0</td>\n",
       "      <td>1605484800</td>\n",
       "      <td>https://www.igdb.com/games/wii-sports-resort</td>\n",
       "      <td>[1277, 39358]</td>\n",
       "      <td>[571, 52375]</td>\n",
       "      <td>12e5b4d6-09e3-18dc-1b43-3e5984c1a4fe</td>\n",
       "      <td>NaN</td>\n",
       "      <td>NaN</td>\n",
       "      <td>NaN</td>\n",
       "      <td>[1911]</td>\n",
       "      <td>NaN</td>\n",
       "      <td>NaN</td>\n",
       "      <td>NaN</td>\n",
       "      <td>NaN</td>\n",
       "      <td>NaN</td>\n",
       "      <td>NaN</td>\n",
       "      <td>NaN</td>\n",
       "      <td>NaN</td>\n",
       "      <td>NaN</td>\n",
       "      <td>NaN</td>\n",
       "    </tr>\n",
       "    <tr>\n",
       "      <th>4</th>\n",
       "      <td>130749</td>\n",
       "      <td>NaN</td>\n",
       "      <td>NaN</td>\n",
       "      <td>NaN</td>\n",
       "      <td>NaN</td>\n",
       "      <td>NaN</td>\n",
       "      <td>0</td>\n",
       "      <td>NaN</td>\n",
       "      <td>NaN</td>\n",
       "      <td>1582329600</td>\n",
       "      <td>[1857140]</td>\n",
       "      <td>NaN</td>\n",
       "      <td>NaN</td>\n",
       "      <td>NaN</td>\n",
       "      <td>NaN</td>\n",
       "      <td>NaN</td>\n",
       "      <td>NaN</td>\n",
       "      <td>Tetris</td>\n",
       "      <td>NaN</td>\n",
       "      <td>NaN</td>\n",
       "      <td>NaN</td>\n",
       "      <td>NaN</td>\n",
       "      <td>NaN</td>\n",
       "      <td>NaN</td>\n",
       "      <td>NaN</td>\n",
       "      <td>tetris--4</td>\n",
       "      <td>NaN</td>\n",
       "      <td>NaN</td>\n",
       "      <td>NaN</td>\n",
       "      <td>NaN</td>\n",
       "      <td>NaN</td>\n",
       "      <td>1582329600</td>\n",
       "      <td>https://www.igdb.com/games/tetris--4</td>\n",
       "      <td>NaN</td>\n",
       "      <td>NaN</td>\n",
       "      <td>ffe01570-c774-c11c-dc9e-652f52519e13</td>\n",
       "      <td>NaN</td>\n",
       "      <td>NaN</td>\n",
       "      <td>NaN</td>\n",
       "      <td>NaN</td>\n",
       "      <td>NaN</td>\n",
       "      <td>NaN</td>\n",
       "      <td>NaN</td>\n",
       "      <td>NaN</td>\n",
       "      <td>NaN</td>\n",
       "      <td>NaN</td>\n",
       "      <td>NaN</td>\n",
       "      <td>NaN</td>\n",
       "      <td>NaN</td>\n",
       "      <td>NaN</td>\n",
       "    </tr>\n",
       "  </tbody>\n",
       "</table>\n",
       "</div>"
      ],
      "text/plain": [
       "       id   age_ratings  aggregated_rating  aggregated_rating_count  \\\n",
       "0    2181  [189, 26427]              75.00                      3.0   \n",
       "1     358   [24, 24927]                NaN                      NaN   \n",
       "2    2183  [192, 13218]              71.25                      5.0   \n",
       "3    2182  [190, 13213]              90.00                      5.0   \n",
       "4  130749           NaN                NaN                      NaN   \n",
       "\n",
       "                                   alternative_names  \\\n",
       "0                                            [32754]   \n",
       "1  [31808, 31809, 31810, 31811, 31812, 31813, 31814]   \n",
       "2         [34468, 34469, 34470, 34471, 34472, 44750]   \n",
       "3                              [32755, 34781, 44953]   \n",
       "4                                                NaN   \n",
       "\n",
       "                             bundles  category  collection     cover  \\\n",
       "0                   [130310, 136311]         0       681.0   86110.0   \n",
       "1  [5199, 9250, 69638, 77227, 77785]         0      6118.0   97418.0   \n",
       "2                                NaN         0       449.0   94766.0   \n",
       "3                   [130310, 136311]         0       681.0  112516.0   \n",
       "4                                NaN         0         NaN       NaN   \n",
       "\n",
       "   created_at                                     external_games  \\\n",
       "0  1372204800  [35583, 144876, 221465, 245925, 1928625, 19289...   \n",
       "1  1300320000           [30094, 142871, 190087, 220718, 1611061]   \n",
       "2  1372204800  [35546, 138281, 189061, 218733, 245265, 192841...   \n",
       "3  1372204800  [35588, 72979, 137871, 221471, 251440, 1928534...   \n",
       "4  1582329600                                          [1857140]   \n",
       "\n",
       "   first_release_date  follows game_modes    genres involved_companies  \\\n",
       "0        1.163894e+09     34.0  [1, 2, 4]  [13, 14]      [4658, 22251]   \n",
       "1        4.954176e+08    363.0     [1, 2]   [8, 31]     [97362, 97363]   \n",
       "2        1.207786e+09     93.0  [1, 2, 4]      [10]      [4656, 98978]   \n",
       "3        1.248394e+09     19.0  [1, 2, 4]      [14]     [51540, 51541]   \n",
       "4                 NaN      NaN        NaN       NaN                NaN   \n",
       "\n",
       "                                            keywords               name  \\\n",
       "0  [20, 30, 56, 274, 299, 311, 632, 977, 992, 116...         Wii Sports   \n",
       "1  [16, 137, 226, 296, 394, 432, 558, 594, 846, 1...  Super Mario Bros.   \n",
       "2  [25, 280, 350, 2071, 3627, 3863, 4157, 4350, 4...     Mario Kart Wii   \n",
       "3  [30, 58, 227, 274, 299, 374, 598, 613, 640, 66...  Wii Sports Resort   \n",
       "4                                                NaN             Tetris   \n",
       "\n",
       "                           platforms player_perspectives     rating  \\\n",
       "0                                [5]              [1, 2]  75.232386   \n",
       "1  [5, 18, 24, 37, 41, 51, 130, 307]                 [4]  83.849890   \n",
       "2                                [5]                 [2]  80.073724   \n",
       "3                                [5]              [1, 2]  79.216604   \n",
       "4                                NaN                 NaN        NaN   \n",
       "\n",
       "   rating_count                                      release_dates  \\\n",
       "0         188.0                       [27256, 27257, 27258, 27259]   \n",
       "1         802.0  [143761, 143763, 143764, 143765, 143766, 14376...   \n",
       "2         304.0                   [134832, 195800, 195801, 195802]   \n",
       "3          79.0                             [4514, 144836, 144837]   \n",
       "4           NaN                                                NaN   \n",
       "\n",
       "                                         screenshots  \\\n",
       "0  [10247, 10248, 10249, 10250, 10251, 178474, 17...   \n",
       "1           [379065, 379066, 379067, 379068, 379069]   \n",
       "2  [384196, 384197, 384198, 384199, 384200, 38420...   \n",
       "3  [27118, 178517, 178518, 178519, 178520, 178521...   \n",
       "4                                                NaN   \n",
       "\n",
       "                                       similar_games               slug  \\\n",
       "0  [1244, 1352, 2182, 2185, 2186, 2194, 3915, 488...         wii-sports   \n",
       "1  [1067, 1068, 1075, 1078, 1079, 2180, 3340, 334...   super-mario-bros   \n",
       "2  [1074, 1077, 2344, 2349, 2350, 3772, 79812, 11...     mario-kart-wii   \n",
       "3  [534, 660, 1352, 2181, 2185, 2189, 4881, 18238...  wii-sports-resort   \n",
       "4                                                NaN          tetris--4   \n",
       "\n",
       "                                             summary  \\\n",
       "0  Bowl like a pro or go for that home run...\\nEx...   \n",
       "1  A side scrolling 2D platformer and first entry...   \n",
       "2  Mario Kart Wii is a multiplayer-oriented racin...   \n",
       "3  Set off on a journey to a tropical island wher...   \n",
       "4                                                NaN   \n",
       "\n",
       "                                                tags       themes  \\\n",
       "0  [40, 268435469, 268435470, 536870932, 53687094...         [40]   \n",
       "1  [1, 268435464, 268435487, 536870928, 536871049...          [1]   \n",
       "2  [1, 27, 40, 268435466, 536870937, 536871192, 5...  [1, 27, 40]   \n",
       "3  [40, 268435470, 536870942, 536870970, 53687113...         [40]   \n",
       "4                                                NaN          NaN   \n",
       "\n",
       "   total_rating  total_rating_count  updated_at  \\\n",
       "0     75.116193               191.0  1605484800   \n",
       "1     83.849890               802.0  1606003200   \n",
       "2     75.661862               309.0  1606003200   \n",
       "3     84.608302                84.0  1605484800   \n",
       "4           NaN                 NaN  1582329600   \n",
       "\n",
       "                                            url          videos  \\\n",
       "0         https://www.igdb.com/games/wii-sports          [1276]   \n",
       "1   https://www.igdb.com/games/super-mario-bros  [35300, 35301]   \n",
       "2     https://www.igdb.com/games/mario-kart-wii   [1279, 35952]   \n",
       "3  https://www.igdb.com/games/wii-sports-resort   [1277, 39358]   \n",
       "4          https://www.igdb.com/games/tetris--4             NaN   \n",
       "\n",
       "        websites                              checksum  franchise franchises  \\\n",
       "0  [570, 125920]  7dd08287-257b-4b94-589c-ee707af7c003        NaN        NaN   \n",
       "1   [4549, 4550]  58df069e-1ee1-a548-2f21-673729e6239d       24.0  [24, 845]   \n",
       "2   [573, 52385]  71b06794-6c39-a2eb-d468-c9e7bee35708       24.0  [24, 845]   \n",
       "3   [571, 52375]  12e5b4d6-09e3-18dc-1b43-3e5984c1a4fe        NaN        NaN   \n",
       "4            NaN  ffe01570-c774-c11c-dc9e-652f52519e13        NaN        NaN   \n",
       "\n",
       "                                           storyline multiplayer_modes  \\\n",
       "0                                                NaN               NaN   \n",
       "1  One day, the Mushroom Kingdom was invaded by t...               NaN   \n",
       "2                                                NaN               NaN   \n",
       "3                                                NaN            [1911]   \n",
       "4                                                NaN               NaN   \n",
       "\n",
       "  artworks game_engines standalone_expansions  hypes dlcs expansions  status  \\\n",
       "0      NaN          NaN                   NaN    NaN  NaN        NaN     NaN   \n",
       "1      NaN          NaN                   NaN    NaN  NaN        NaN     NaN   \n",
       "2      NaN          NaN                   NaN    NaN  NaN        NaN     NaN   \n",
       "3      NaN          NaN                   NaN    NaN  NaN        NaN     NaN   \n",
       "4      NaN          NaN                   NaN    NaN  NaN        NaN     NaN   \n",
       "\n",
       "   version_parent version_title  parent_game  \n",
       "0             NaN           NaN          NaN  \n",
       "1             NaN           NaN          NaN  \n",
       "2             NaN           NaN          NaN  \n",
       "3             NaN           NaN          NaN  \n",
       "4             NaN           NaN          NaN  "
      ]
     },
     "execution_count": 43,
     "metadata": {},
     "output_type": "execute_result"
    }
   ],
   "source": [
    "new_cols.head()"
   ]
  },
  {
   "cell_type": "code",
   "execution_count": 44,
   "metadata": {},
   "outputs": [],
   "source": [
    "cols_toadd = new_cols[['name','total_rating','platforms', 'similar_games', 'collection']]"
   ]
  },
  {
   "cell_type": "code",
   "execution_count": 45,
   "metadata": {
    "scrolled": true
   },
   "outputs": [
    {
     "data": {
      "text/html": [
       "<div>\n",
       "<style scoped>\n",
       "    .dataframe tbody tr th:only-of-type {\n",
       "        vertical-align: middle;\n",
       "    }\n",
       "\n",
       "    .dataframe tbody tr th {\n",
       "        vertical-align: top;\n",
       "    }\n",
       "\n",
       "    .dataframe thead th {\n",
       "        text-align: right;\n",
       "    }\n",
       "</style>\n",
       "<table border=\"1\" class=\"dataframe\">\n",
       "  <thead>\n",
       "    <tr style=\"text-align: right;\">\n",
       "      <th></th>\n",
       "      <th>Name</th>\n",
       "      <th>Platform</th>\n",
       "      <th>Year</th>\n",
       "      <th>Genre</th>\n",
       "      <th>Publisher</th>\n",
       "      <th>Global_Sales</th>\n",
       "      <th>name</th>\n",
       "      <th>total_rating</th>\n",
       "      <th>platforms</th>\n",
       "      <th>similar_games</th>\n",
       "      <th>collection</th>\n",
       "    </tr>\n",
       "  </thead>\n",
       "  <tbody>\n",
       "    <tr>\n",
       "      <th>0</th>\n",
       "      <td>Wii Sports</td>\n",
       "      <td>Wii</td>\n",
       "      <td>2006.0</td>\n",
       "      <td>Sports</td>\n",
       "      <td>Nintendo</td>\n",
       "      <td>82.74</td>\n",
       "      <td>Wii Sports</td>\n",
       "      <td>75.116193</td>\n",
       "      <td>[5]</td>\n",
       "      <td>[1244, 1352, 2182, 2185, 2186, 2194, 3915, 488...</td>\n",
       "      <td>681.0</td>\n",
       "    </tr>\n",
       "    <tr>\n",
       "      <th>1</th>\n",
       "      <td>Super Mario Bros.</td>\n",
       "      <td>NES</td>\n",
       "      <td>1985.0</td>\n",
       "      <td>Platform</td>\n",
       "      <td>Nintendo</td>\n",
       "      <td>40.24</td>\n",
       "      <td>Super Mario Bros.</td>\n",
       "      <td>83.849890</td>\n",
       "      <td>[5, 18, 24, 37, 41, 51, 130, 307]</td>\n",
       "      <td>[1067, 1068, 1075, 1078, 1079, 2180, 3340, 334...</td>\n",
       "      <td>6118.0</td>\n",
       "    </tr>\n",
       "    <tr>\n",
       "      <th>2</th>\n",
       "      <td>Super Mario Bros.</td>\n",
       "      <td>GB</td>\n",
       "      <td>1999.0</td>\n",
       "      <td>Platform</td>\n",
       "      <td>Nintendo</td>\n",
       "      <td>5.07</td>\n",
       "      <td>Super Mario Bros.</td>\n",
       "      <td>83.849890</td>\n",
       "      <td>[5, 18, 24, 37, 41, 51, 130, 307]</td>\n",
       "      <td>[1067, 1068, 1075, 1078, 1079, 2180, 3340, 334...</td>\n",
       "      <td>6118.0</td>\n",
       "    </tr>\n",
       "    <tr>\n",
       "      <th>3</th>\n",
       "      <td>Mario Kart Wii</td>\n",
       "      <td>Wii</td>\n",
       "      <td>2008.0</td>\n",
       "      <td>Racing</td>\n",
       "      <td>Nintendo</td>\n",
       "      <td>35.82</td>\n",
       "      <td>Mario Kart Wii</td>\n",
       "      <td>75.661862</td>\n",
       "      <td>[5]</td>\n",
       "      <td>[1074, 1077, 2344, 2349, 2350, 3772, 79812, 11...</td>\n",
       "      <td>449.0</td>\n",
       "    </tr>\n",
       "    <tr>\n",
       "      <th>4</th>\n",
       "      <td>Wii Sports Resort</td>\n",
       "      <td>Wii</td>\n",
       "      <td>2009.0</td>\n",
       "      <td>Sports</td>\n",
       "      <td>Nintendo</td>\n",
       "      <td>33.00</td>\n",
       "      <td>Wii Sports Resort</td>\n",
       "      <td>84.608302</td>\n",
       "      <td>[5]</td>\n",
       "      <td>[534, 660, 1352, 2181, 2185, 2189, 4881, 18238...</td>\n",
       "      <td>681.0</td>\n",
       "    </tr>\n",
       "  </tbody>\n",
       "</table>\n",
       "</div>"
      ],
      "text/plain": [
       "                Name Platform    Year     Genre Publisher  Global_Sales  \\\n",
       "0         Wii Sports      Wii  2006.0    Sports  Nintendo         82.74   \n",
       "1  Super Mario Bros.      NES  1985.0  Platform  Nintendo         40.24   \n",
       "2  Super Mario Bros.       GB  1999.0  Platform  Nintendo          5.07   \n",
       "3     Mario Kart Wii      Wii  2008.0    Racing  Nintendo         35.82   \n",
       "4  Wii Sports Resort      Wii  2009.0    Sports  Nintendo         33.00   \n",
       "\n",
       "                name  total_rating                          platforms  \\\n",
       "0         Wii Sports     75.116193                                [5]   \n",
       "1  Super Mario Bros.     83.849890  [5, 18, 24, 37, 41, 51, 130, 307]   \n",
       "2  Super Mario Bros.     83.849890  [5, 18, 24, 37, 41, 51, 130, 307]   \n",
       "3     Mario Kart Wii     75.661862                                [5]   \n",
       "4  Wii Sports Resort     84.608302                                [5]   \n",
       "\n",
       "                                       similar_games  collection  \n",
       "0  [1244, 1352, 2182, 2185, 2186, 2194, 3915, 488...       681.0  \n",
       "1  [1067, 1068, 1075, 1078, 1079, 2180, 3340, 334...      6118.0  \n",
       "2  [1067, 1068, 1075, 1078, 1079, 2180, 3340, 334...      6118.0  \n",
       "3  [1074, 1077, 2344, 2349, 2350, 3772, 79812, 11...       449.0  \n",
       "4  [534, 660, 1352, 2181, 2185, 2189, 4881, 18238...       681.0  "
      ]
     },
     "execution_count": 45,
     "metadata": {},
     "output_type": "execute_result"
    }
   ],
   "source": [
    "new_df = sglobal.merge(cols_toadd, left_on='Name', right_on='name')\n",
    "new_df.head()"
   ]
  },
  {
   "cell_type": "code",
   "execution_count": 46,
   "metadata": {},
   "outputs": [],
   "source": [
    "new_df.drop('name', axis=1, inplace=True)"
   ]
  },
  {
   "cell_type": "code",
   "execution_count": 47,
   "metadata": {},
   "outputs": [],
   "source": [
    "# This function will translate the entries into counts of iterables creating meaningful entries in the dataframe\n",
    "def list_to_count(record):\n",
    "    if type(record)==list:\n",
    "        return len(record)\n",
    "    else:\n",
    "        return 0"
   ]
  },
  {
   "cell_type": "code",
   "execution_count": 48,
   "metadata": {},
   "outputs": [],
   "source": [
    "new_df['platforms'] = new_df['platforms'].apply(list_to_count)"
   ]
  },
  {
   "cell_type": "code",
   "execution_count": 49,
   "metadata": {},
   "outputs": [],
   "source": [
    "new_df['similar_games'] = new_df['similar_games'].apply(list_to_count)"
   ]
  },
  {
   "cell_type": "code",
   "execution_count": 50,
   "metadata": {},
   "outputs": [],
   "source": [
    "new_df['collection'] = new_df['collection'].apply(list_to_count)"
   ]
  },
  {
   "cell_type": "code",
   "execution_count": 51,
   "metadata": {},
   "outputs": [
    {
     "data": {
      "text/html": [
       "<div>\n",
       "<style scoped>\n",
       "    .dataframe tbody tr th:only-of-type {\n",
       "        vertical-align: middle;\n",
       "    }\n",
       "\n",
       "    .dataframe tbody tr th {\n",
       "        vertical-align: top;\n",
       "    }\n",
       "\n",
       "    .dataframe thead th {\n",
       "        text-align: right;\n",
       "    }\n",
       "</style>\n",
       "<table border=\"1\" class=\"dataframe\">\n",
       "  <thead>\n",
       "    <tr style=\"text-align: right;\">\n",
       "      <th></th>\n",
       "      <th>Name</th>\n",
       "      <th>Platform</th>\n",
       "      <th>Year</th>\n",
       "      <th>Genre</th>\n",
       "      <th>Publisher</th>\n",
       "      <th>Global_Sales</th>\n",
       "      <th>total_rating</th>\n",
       "      <th>platforms</th>\n",
       "      <th>similar_games</th>\n",
       "      <th>collection</th>\n",
       "    </tr>\n",
       "  </thead>\n",
       "  <tbody>\n",
       "    <tr>\n",
       "      <th>0</th>\n",
       "      <td>Wii Sports</td>\n",
       "      <td>Wii</td>\n",
       "      <td>2006.0</td>\n",
       "      <td>Sports</td>\n",
       "      <td>Nintendo</td>\n",
       "      <td>82.74</td>\n",
       "      <td>75.116193</td>\n",
       "      <td>1</td>\n",
       "      <td>9</td>\n",
       "      <td>0</td>\n",
       "    </tr>\n",
       "    <tr>\n",
       "      <th>1</th>\n",
       "      <td>Super Mario Bros.</td>\n",
       "      <td>NES</td>\n",
       "      <td>1985.0</td>\n",
       "      <td>Platform</td>\n",
       "      <td>Nintendo</td>\n",
       "      <td>40.24</td>\n",
       "      <td>83.849890</td>\n",
       "      <td>8</td>\n",
       "      <td>9</td>\n",
       "      <td>0</td>\n",
       "    </tr>\n",
       "    <tr>\n",
       "      <th>2</th>\n",
       "      <td>Super Mario Bros.</td>\n",
       "      <td>GB</td>\n",
       "      <td>1999.0</td>\n",
       "      <td>Platform</td>\n",
       "      <td>Nintendo</td>\n",
       "      <td>5.07</td>\n",
       "      <td>83.849890</td>\n",
       "      <td>8</td>\n",
       "      <td>9</td>\n",
       "      <td>0</td>\n",
       "    </tr>\n",
       "    <tr>\n",
       "      <th>3</th>\n",
       "      <td>Mario Kart Wii</td>\n",
       "      <td>Wii</td>\n",
       "      <td>2008.0</td>\n",
       "      <td>Racing</td>\n",
       "      <td>Nintendo</td>\n",
       "      <td>35.82</td>\n",
       "      <td>75.661862</td>\n",
       "      <td>1</td>\n",
       "      <td>9</td>\n",
       "      <td>0</td>\n",
       "    </tr>\n",
       "    <tr>\n",
       "      <th>4</th>\n",
       "      <td>Wii Sports Resort</td>\n",
       "      <td>Wii</td>\n",
       "      <td>2009.0</td>\n",
       "      <td>Sports</td>\n",
       "      <td>Nintendo</td>\n",
       "      <td>33.00</td>\n",
       "      <td>84.608302</td>\n",
       "      <td>1</td>\n",
       "      <td>9</td>\n",
       "      <td>0</td>\n",
       "    </tr>\n",
       "  </tbody>\n",
       "</table>\n",
       "</div>"
      ],
      "text/plain": [
       "                Name Platform    Year     Genre Publisher  Global_Sales  \\\n",
       "0         Wii Sports      Wii  2006.0    Sports  Nintendo         82.74   \n",
       "1  Super Mario Bros.      NES  1985.0  Platform  Nintendo         40.24   \n",
       "2  Super Mario Bros.       GB  1999.0  Platform  Nintendo          5.07   \n",
       "3     Mario Kart Wii      Wii  2008.0    Racing  Nintendo         35.82   \n",
       "4  Wii Sports Resort      Wii  2009.0    Sports  Nintendo         33.00   \n",
       "\n",
       "   total_rating  platforms  similar_games  collection  \n",
       "0     75.116193          1              9           0  \n",
       "1     83.849890          8              9           0  \n",
       "2     83.849890          8              9           0  \n",
       "3     75.661862          1              9           0  \n",
       "4     84.608302          1              9           0  "
      ]
     },
     "execution_count": 51,
     "metadata": {},
     "output_type": "execute_result"
    }
   ],
   "source": [
    "new_df.head()"
   ]
  },
  {
   "cell_type": "code",
   "execution_count": 52,
   "metadata": {},
   "outputs": [],
   "source": [
    "new_df.dropna(inplace=True)"
   ]
  },
  {
   "cell_type": "code",
   "execution_count": 53,
   "metadata": {},
   "outputs": [
    {
     "data": {
      "text/html": [
       "<div>\n",
       "<style scoped>\n",
       "    .dataframe tbody tr th:only-of-type {\n",
       "        vertical-align: middle;\n",
       "    }\n",
       "\n",
       "    .dataframe tbody tr th {\n",
       "        vertical-align: top;\n",
       "    }\n",
       "\n",
       "    .dataframe thead th {\n",
       "        text-align: right;\n",
       "    }\n",
       "</style>\n",
       "<table border=\"1\" class=\"dataframe\">\n",
       "  <thead>\n",
       "    <tr style=\"text-align: right;\">\n",
       "      <th></th>\n",
       "      <th>Name</th>\n",
       "      <th>Platform</th>\n",
       "      <th>Year</th>\n",
       "      <th>Genre</th>\n",
       "      <th>Publisher</th>\n",
       "      <th>Global_Sales</th>\n",
       "      <th>total_rating</th>\n",
       "      <th>platforms</th>\n",
       "      <th>similar_games</th>\n",
       "      <th>collection</th>\n",
       "    </tr>\n",
       "  </thead>\n",
       "  <tbody>\n",
       "    <tr>\n",
       "      <th>0</th>\n",
       "      <td>Wii Sports</td>\n",
       "      <td>Wii</td>\n",
       "      <td>2006.0</td>\n",
       "      <td>Sports</td>\n",
       "      <td>Nintendo</td>\n",
       "      <td>82.74</td>\n",
       "      <td>75.116193</td>\n",
       "      <td>1</td>\n",
       "      <td>9</td>\n",
       "      <td>0</td>\n",
       "    </tr>\n",
       "    <tr>\n",
       "      <th>1</th>\n",
       "      <td>Super Mario Bros.</td>\n",
       "      <td>NES</td>\n",
       "      <td>1985.0</td>\n",
       "      <td>Platform</td>\n",
       "      <td>Nintendo</td>\n",
       "      <td>40.24</td>\n",
       "      <td>83.849890</td>\n",
       "      <td>8</td>\n",
       "      <td>9</td>\n",
       "      <td>0</td>\n",
       "    </tr>\n",
       "    <tr>\n",
       "      <th>2</th>\n",
       "      <td>Super Mario Bros.</td>\n",
       "      <td>GB</td>\n",
       "      <td>1999.0</td>\n",
       "      <td>Platform</td>\n",
       "      <td>Nintendo</td>\n",
       "      <td>5.07</td>\n",
       "      <td>83.849890</td>\n",
       "      <td>8</td>\n",
       "      <td>9</td>\n",
       "      <td>0</td>\n",
       "    </tr>\n",
       "    <tr>\n",
       "      <th>3</th>\n",
       "      <td>Mario Kart Wii</td>\n",
       "      <td>Wii</td>\n",
       "      <td>2008.0</td>\n",
       "      <td>Racing</td>\n",
       "      <td>Nintendo</td>\n",
       "      <td>35.82</td>\n",
       "      <td>75.661862</td>\n",
       "      <td>1</td>\n",
       "      <td>9</td>\n",
       "      <td>0</td>\n",
       "    </tr>\n",
       "    <tr>\n",
       "      <th>4</th>\n",
       "      <td>Wii Sports Resort</td>\n",
       "      <td>Wii</td>\n",
       "      <td>2009.0</td>\n",
       "      <td>Sports</td>\n",
       "      <td>Nintendo</td>\n",
       "      <td>33.00</td>\n",
       "      <td>84.608302</td>\n",
       "      <td>1</td>\n",
       "      <td>9</td>\n",
       "      <td>0</td>\n",
       "    </tr>\n",
       "  </tbody>\n",
       "</table>\n",
       "</div>"
      ],
      "text/plain": [
       "                Name Platform    Year     Genre Publisher  Global_Sales  \\\n",
       "0         Wii Sports      Wii  2006.0    Sports  Nintendo         82.74   \n",
       "1  Super Mario Bros.      NES  1985.0  Platform  Nintendo         40.24   \n",
       "2  Super Mario Bros.       GB  1999.0  Platform  Nintendo          5.07   \n",
       "3     Mario Kart Wii      Wii  2008.0    Racing  Nintendo         35.82   \n",
       "4  Wii Sports Resort      Wii  2009.0    Sports  Nintendo         33.00   \n",
       "\n",
       "   total_rating  platforms  similar_games  collection  \n",
       "0     75.116193          1              9           0  \n",
       "1     83.849890          8              9           0  \n",
       "2     83.849890          8              9           0  \n",
       "3     75.661862          1              9           0  \n",
       "4     84.608302          1              9           0  "
      ]
     },
     "execution_count": 53,
     "metadata": {},
     "output_type": "execute_result"
    }
   ],
   "source": [
    "new_df.head()"
   ]
  },
  {
   "cell_type": "code",
   "execution_count": 54,
   "metadata": {},
   "outputs": [
    {
     "data": {
      "text/html": [
       "<div>\n",
       "<style scoped>\n",
       "    .dataframe tbody tr th:only-of-type {\n",
       "        vertical-align: middle;\n",
       "    }\n",
       "\n",
       "    .dataframe tbody tr th {\n",
       "        vertical-align: top;\n",
       "    }\n",
       "\n",
       "    .dataframe thead th {\n",
       "        text-align: right;\n",
       "    }\n",
       "</style>\n",
       "<table border=\"1\" class=\"dataframe\">\n",
       "  <thead>\n",
       "    <tr style=\"text-align: right;\">\n",
       "      <th></th>\n",
       "      <th>Remake</th>\n",
       "    </tr>\n",
       "  </thead>\n",
       "  <tbody>\n",
       "    <tr>\n",
       "      <th>0</th>\n",
       "      <td>False</td>\n",
       "    </tr>\n",
       "    <tr>\n",
       "      <th>1</th>\n",
       "      <td>False</td>\n",
       "    </tr>\n",
       "    <tr>\n",
       "      <th>2</th>\n",
       "      <td>True</td>\n",
       "    </tr>\n",
       "    <tr>\n",
       "      <th>3</th>\n",
       "      <td>False</td>\n",
       "    </tr>\n",
       "    <tr>\n",
       "      <th>4</th>\n",
       "      <td>False</td>\n",
       "    </tr>\n",
       "  </tbody>\n",
       "</table>\n",
       "</div>"
      ],
      "text/plain": [
       "   Remake\n",
       "0   False\n",
       "1   False\n",
       "2    True\n",
       "3   False\n",
       "4   False"
      ]
     },
     "execution_count": 54,
     "metadata": {},
     "output_type": "execute_result"
    }
   ],
   "source": [
    "remake = np.array(new_df['Name'].duplicated())\n",
    "remake_df = pd.DataFrame(remake, columns=['Remake'], index=new_df.index)\n",
    "remake_df.head()"
   ]
  },
  {
   "cell_type": "code",
   "execution_count": 55,
   "metadata": {},
   "outputs": [
    {
     "data": {
      "text/html": [
       "<div>\n",
       "<style scoped>\n",
       "    .dataframe tbody tr th:only-of-type {\n",
       "        vertical-align: middle;\n",
       "    }\n",
       "\n",
       "    .dataframe tbody tr th {\n",
       "        vertical-align: top;\n",
       "    }\n",
       "\n",
       "    .dataframe thead th {\n",
       "        text-align: right;\n",
       "    }\n",
       "</style>\n",
       "<table border=\"1\" class=\"dataframe\">\n",
       "  <thead>\n",
       "    <tr style=\"text-align: right;\">\n",
       "      <th></th>\n",
       "      <th>Name</th>\n",
       "      <th>Platform</th>\n",
       "      <th>Year</th>\n",
       "      <th>Genre</th>\n",
       "      <th>Publisher</th>\n",
       "      <th>Global_Sales</th>\n",
       "      <th>total_rating</th>\n",
       "      <th>platforms</th>\n",
       "      <th>similar_games</th>\n",
       "      <th>collection</th>\n",
       "      <th>Remake</th>\n",
       "    </tr>\n",
       "  </thead>\n",
       "  <tbody>\n",
       "    <tr>\n",
       "      <th>0</th>\n",
       "      <td>Wii Sports</td>\n",
       "      <td>Wii</td>\n",
       "      <td>2006.0</td>\n",
       "      <td>Sports</td>\n",
       "      <td>Nintendo</td>\n",
       "      <td>82.74</td>\n",
       "      <td>75.116193</td>\n",
       "      <td>1</td>\n",
       "      <td>9</td>\n",
       "      <td>0</td>\n",
       "      <td>False</td>\n",
       "    </tr>\n",
       "    <tr>\n",
       "      <th>1</th>\n",
       "      <td>Super Mario Bros.</td>\n",
       "      <td>NES</td>\n",
       "      <td>1985.0</td>\n",
       "      <td>Platform</td>\n",
       "      <td>Nintendo</td>\n",
       "      <td>40.24</td>\n",
       "      <td>83.849890</td>\n",
       "      <td>8</td>\n",
       "      <td>9</td>\n",
       "      <td>0</td>\n",
       "      <td>False</td>\n",
       "    </tr>\n",
       "    <tr>\n",
       "      <th>2</th>\n",
       "      <td>Super Mario Bros.</td>\n",
       "      <td>GB</td>\n",
       "      <td>1999.0</td>\n",
       "      <td>Platform</td>\n",
       "      <td>Nintendo</td>\n",
       "      <td>5.07</td>\n",
       "      <td>83.849890</td>\n",
       "      <td>8</td>\n",
       "      <td>9</td>\n",
       "      <td>0</td>\n",
       "      <td>True</td>\n",
       "    </tr>\n",
       "    <tr>\n",
       "      <th>3</th>\n",
       "      <td>Mario Kart Wii</td>\n",
       "      <td>Wii</td>\n",
       "      <td>2008.0</td>\n",
       "      <td>Racing</td>\n",
       "      <td>Nintendo</td>\n",
       "      <td>35.82</td>\n",
       "      <td>75.661862</td>\n",
       "      <td>1</td>\n",
       "      <td>9</td>\n",
       "      <td>0</td>\n",
       "      <td>False</td>\n",
       "    </tr>\n",
       "    <tr>\n",
       "      <th>4</th>\n",
       "      <td>Wii Sports Resort</td>\n",
       "      <td>Wii</td>\n",
       "      <td>2009.0</td>\n",
       "      <td>Sports</td>\n",
       "      <td>Nintendo</td>\n",
       "      <td>33.00</td>\n",
       "      <td>84.608302</td>\n",
       "      <td>1</td>\n",
       "      <td>9</td>\n",
       "      <td>0</td>\n",
       "      <td>False</td>\n",
       "    </tr>\n",
       "  </tbody>\n",
       "</table>\n",
       "</div>"
      ],
      "text/plain": [
       "                Name Platform    Year     Genre Publisher  Global_Sales  \\\n",
       "0         Wii Sports      Wii  2006.0    Sports  Nintendo         82.74   \n",
       "1  Super Mario Bros.      NES  1985.0  Platform  Nintendo         40.24   \n",
       "2  Super Mario Bros.       GB  1999.0  Platform  Nintendo          5.07   \n",
       "3     Mario Kart Wii      Wii  2008.0    Racing  Nintendo         35.82   \n",
       "4  Wii Sports Resort      Wii  2009.0    Sports  Nintendo         33.00   \n",
       "\n",
       "   total_rating  platforms  similar_games  collection  Remake  \n",
       "0     75.116193          1              9           0   False  \n",
       "1     83.849890          8              9           0   False  \n",
       "2     83.849890          8              9           0    True  \n",
       "3     75.661862          1              9           0   False  \n",
       "4     84.608302          1              9           0   False  "
      ]
     },
     "execution_count": 55,
     "metadata": {},
     "output_type": "execute_result"
    }
   ],
   "source": [
    "new_df = pd.concat((new_df,remake_df), axis=1)\n",
    "new_df.head()"
   ]
  },
  {
   "cell_type": "code",
   "execution_count": 56,
   "metadata": {},
   "outputs": [
    {
     "data": {
      "text/html": [
       "<div>\n",
       "<style scoped>\n",
       "    .dataframe tbody tr th:only-of-type {\n",
       "        vertical-align: middle;\n",
       "    }\n",
       "\n",
       "    .dataframe tbody tr th {\n",
       "        vertical-align: top;\n",
       "    }\n",
       "\n",
       "    .dataframe thead th {\n",
       "        text-align: right;\n",
       "    }\n",
       "</style>\n",
       "<table border=\"1\" class=\"dataframe\">\n",
       "  <thead>\n",
       "    <tr style=\"text-align: right;\">\n",
       "      <th></th>\n",
       "      <th>Name</th>\n",
       "      <th>Platform</th>\n",
       "      <th>Year</th>\n",
       "      <th>Genre</th>\n",
       "      <th>Publisher</th>\n",
       "      <th>Global_Sales</th>\n",
       "      <th>total_rating</th>\n",
       "      <th>platforms</th>\n",
       "      <th>similar_games</th>\n",
       "      <th>collection</th>\n",
       "      <th>Remake</th>\n",
       "    </tr>\n",
       "  </thead>\n",
       "  <tbody>\n",
       "    <tr>\n",
       "      <th>2</th>\n",
       "      <td>Super Mario Bros.</td>\n",
       "      <td>GB</td>\n",
       "      <td>1999.0</td>\n",
       "      <td>Platform</td>\n",
       "      <td>Nintendo</td>\n",
       "      <td>5.07</td>\n",
       "      <td>83.849890</td>\n",
       "      <td>8</td>\n",
       "      <td>9</td>\n",
       "      <td>0</td>\n",
       "      <td>True</td>\n",
       "    </tr>\n",
       "    <tr>\n",
       "      <th>18</th>\n",
       "      <td>Grand Theft Auto V</td>\n",
       "      <td>XOne</td>\n",
       "      <td>2014.0</td>\n",
       "      <td>Action</td>\n",
       "      <td>Take-Two Interactive</td>\n",
       "      <td>5.08</td>\n",
       "      <td>93.423514</td>\n",
       "      <td>5</td>\n",
       "      <td>9</td>\n",
       "      <td>0</td>\n",
       "      <td>True</td>\n",
       "    </tr>\n",
       "    <tr>\n",
       "      <th>19</th>\n",
       "      <td>Grand Theft Auto V</td>\n",
       "      <td>PC</td>\n",
       "      <td>2015.0</td>\n",
       "      <td>Action</td>\n",
       "      <td>Take-Two Interactive</td>\n",
       "      <td>1.08</td>\n",
       "      <td>93.423514</td>\n",
       "      <td>5</td>\n",
       "      <td>9</td>\n",
       "      <td>0</td>\n",
       "      <td>True</td>\n",
       "    </tr>\n",
       "    <tr>\n",
       "      <th>21</th>\n",
       "      <td>Grand Theft Auto: San Andreas</td>\n",
       "      <td>XB</td>\n",
       "      <td>2005.0</td>\n",
       "      <td>Action</td>\n",
       "      <td>Take-Two Interactive</td>\n",
       "      <td>1.95</td>\n",
       "      <td>91.746186</td>\n",
       "      <td>10</td>\n",
       "      <td>9</td>\n",
       "      <td>0</td>\n",
       "      <td>True</td>\n",
       "    </tr>\n",
       "    <tr>\n",
       "      <th>22</th>\n",
       "      <td>Grand Theft Auto: San Andreas</td>\n",
       "      <td>PC</td>\n",
       "      <td>2005.0</td>\n",
       "      <td>Action</td>\n",
       "      <td>Take-Two Interactive</td>\n",
       "      <td>0.98</td>\n",
       "      <td>91.746186</td>\n",
       "      <td>10</td>\n",
       "      <td>9</td>\n",
       "      <td>0</td>\n",
       "      <td>True</td>\n",
       "    </tr>\n",
       "  </tbody>\n",
       "</table>\n",
       "</div>"
      ],
      "text/plain": [
       "                             Name Platform    Year     Genre  \\\n",
       "2               Super Mario Bros.       GB  1999.0  Platform   \n",
       "18             Grand Theft Auto V     XOne  2014.0    Action   \n",
       "19             Grand Theft Auto V       PC  2015.0    Action   \n",
       "21  Grand Theft Auto: San Andreas       XB  2005.0    Action   \n",
       "22  Grand Theft Auto: San Andreas       PC  2005.0    Action   \n",
       "\n",
       "               Publisher  Global_Sales  total_rating  platforms  \\\n",
       "2               Nintendo          5.07     83.849890          8   \n",
       "18  Take-Two Interactive          5.08     93.423514          5   \n",
       "19  Take-Two Interactive          1.08     93.423514          5   \n",
       "21  Take-Two Interactive          1.95     91.746186         10   \n",
       "22  Take-Two Interactive          0.98     91.746186         10   \n",
       "\n",
       "    similar_games  collection  Remake  \n",
       "2               9           0    True  \n",
       "18              9           0    True  \n",
       "19              9           0    True  \n",
       "21              9           0    True  \n",
       "22              9           0    True  "
      ]
     },
     "execution_count": 56,
     "metadata": {},
     "output_type": "execute_result"
    }
   ],
   "source": [
    "new_df = new_df[(new_df['Global_Sales'] > lowerrange) & (new_df['Global_Sales'] < upperrange)]\n",
    "new_df.head()"
   ]
  },
  {
   "cell_type": "code",
   "execution_count": 58,
   "metadata": {},
   "outputs": [
    {
     "data": {
      "text/html": [
       "<div>\n",
       "<style scoped>\n",
       "    .dataframe tbody tr th:only-of-type {\n",
       "        vertical-align: middle;\n",
       "    }\n",
       "\n",
       "    .dataframe tbody tr th {\n",
       "        vertical-align: top;\n",
       "    }\n",
       "\n",
       "    .dataframe thead th {\n",
       "        text-align: right;\n",
       "    }\n",
       "</style>\n",
       "<table border=\"1\" class=\"dataframe\">\n",
       "  <thead>\n",
       "    <tr style=\"text-align: right;\">\n",
       "      <th></th>\n",
       "      <th>Name</th>\n",
       "      <th>Platform</th>\n",
       "      <th>Year</th>\n",
       "      <th>Genre</th>\n",
       "      <th>Publisher</th>\n",
       "      <th>Global_Sales</th>\n",
       "      <th>total_rating</th>\n",
       "      <th>platforms</th>\n",
       "      <th>similar_games</th>\n",
       "      <th>collection</th>\n",
       "      <th>Remake</th>\n",
       "    </tr>\n",
       "  </thead>\n",
       "  <tbody>\n",
       "    <tr>\n",
       "      <th>2</th>\n",
       "      <td>Super Mario Bros.</td>\n",
       "      <td>GB</td>\n",
       "      <td>1999.0</td>\n",
       "      <td>Platform</td>\n",
       "      <td>Nintendo</td>\n",
       "      <td>5.07</td>\n",
       "      <td>83.849890</td>\n",
       "      <td>8</td>\n",
       "      <td>9</td>\n",
       "      <td>0</td>\n",
       "      <td>1</td>\n",
       "    </tr>\n",
       "    <tr>\n",
       "      <th>18</th>\n",
       "      <td>Grand Theft Auto V</td>\n",
       "      <td>XOne</td>\n",
       "      <td>2014.0</td>\n",
       "      <td>Action</td>\n",
       "      <td>Take-Two Interactive</td>\n",
       "      <td>5.08</td>\n",
       "      <td>93.423514</td>\n",
       "      <td>5</td>\n",
       "      <td>9</td>\n",
       "      <td>0</td>\n",
       "      <td>1</td>\n",
       "    </tr>\n",
       "    <tr>\n",
       "      <th>19</th>\n",
       "      <td>Grand Theft Auto V</td>\n",
       "      <td>PC</td>\n",
       "      <td>2015.0</td>\n",
       "      <td>Action</td>\n",
       "      <td>Take-Two Interactive</td>\n",
       "      <td>1.08</td>\n",
       "      <td>93.423514</td>\n",
       "      <td>5</td>\n",
       "      <td>9</td>\n",
       "      <td>0</td>\n",
       "      <td>1</td>\n",
       "    </tr>\n",
       "    <tr>\n",
       "      <th>21</th>\n",
       "      <td>Grand Theft Auto: San Andreas</td>\n",
       "      <td>XB</td>\n",
       "      <td>2005.0</td>\n",
       "      <td>Action</td>\n",
       "      <td>Take-Two Interactive</td>\n",
       "      <td>1.95</td>\n",
       "      <td>91.746186</td>\n",
       "      <td>10</td>\n",
       "      <td>9</td>\n",
       "      <td>0</td>\n",
       "      <td>1</td>\n",
       "    </tr>\n",
       "    <tr>\n",
       "      <th>22</th>\n",
       "      <td>Grand Theft Auto: San Andreas</td>\n",
       "      <td>PC</td>\n",
       "      <td>2005.0</td>\n",
       "      <td>Action</td>\n",
       "      <td>Take-Two Interactive</td>\n",
       "      <td>0.98</td>\n",
       "      <td>91.746186</td>\n",
       "      <td>10</td>\n",
       "      <td>9</td>\n",
       "      <td>0</td>\n",
       "      <td>1</td>\n",
       "    </tr>\n",
       "  </tbody>\n",
       "</table>\n",
       "</div>"
      ],
      "text/plain": [
       "                             Name Platform    Year     Genre  \\\n",
       "2               Super Mario Bros.       GB  1999.0  Platform   \n",
       "18             Grand Theft Auto V     XOne  2014.0    Action   \n",
       "19             Grand Theft Auto V       PC  2015.0    Action   \n",
       "21  Grand Theft Auto: San Andreas       XB  2005.0    Action   \n",
       "22  Grand Theft Auto: San Andreas       PC  2005.0    Action   \n",
       "\n",
       "               Publisher  Global_Sales  total_rating  platforms  \\\n",
       "2               Nintendo          5.07     83.849890          8   \n",
       "18  Take-Two Interactive          5.08     93.423514          5   \n",
       "19  Take-Two Interactive          1.08     93.423514          5   \n",
       "21  Take-Two Interactive          1.95     91.746186         10   \n",
       "22  Take-Two Interactive          0.98     91.746186         10   \n",
       "\n",
       "    similar_games  collection  Remake  \n",
       "2               9           0       1  \n",
       "18              9           0       1  \n",
       "19              9           0       1  \n",
       "21              9           0       1  \n",
       "22              9           0       1  "
      ]
     },
     "execution_count": 58,
     "metadata": {},
     "output_type": "execute_result"
    }
   ],
   "source": [
    "new_df['Remake'] = new_df['Remake'].astype(bool)\n",
    "new_df['Remake'] = new_df['Remake'].astype(int)\n",
    "new_df.head()"
   ]
  },
  {
   "cell_type": "markdown",
   "metadata": {},
   "source": [
    "## Coding the second model series"
   ]
  },
  {
   "cell_type": "code",
   "execution_count": 82,
   "metadata": {},
   "outputs": [],
   "source": [
    "y = new_df['Global_Sales']\n",
    "X = new_df.drop('Global_Sales', axis=1)"
   ]
  },
  {
   "cell_type": "code",
   "execution_count": 83,
   "metadata": {},
   "outputs": [],
   "source": [
    "X_train, X_test, y_train, y_test = train_test_split(X, y, test_size=.2, random_state=42)"
   ]
  },
  {
   "cell_type": "code",
   "execution_count": 84,
   "metadata": {},
   "outputs": [],
   "source": [
    "ohe = OneHotEncoder(handle_unknown='ignore')\n",
    "\n",
    "ohe.fit(X_train[['Platform', 'Genre', 'Publisher']])\n",
    "\n",
    "ohe_cats = pd.DataFrame(ohe.transform(X_train[['Platform', 'Genre', 'Publisher']]).todense(), \n",
    "                        columns=ohe.get_feature_names(),index=X_train.index)\n",
    "\n",
    "ohe_cats_test= pd.DataFrame(ohe.transform(X_test[['Platform', 'Genre', 'Publisher']]).todense(), \n",
    "                        columns=ohe.get_feature_names(),index=X_test.index)"
   ]
  },
  {
   "cell_type": "code",
   "execution_count": 85,
   "metadata": {},
   "outputs": [],
   "source": [
    "X_train.drop(columns=['Platform', 'Genre', 'Publisher', 'Name'], axis=1, inplace=True)\n",
    "X_test.drop(columns=['Platform', 'Genre', 'Publisher','Name'], axis=1, inplace=True)"
   ]
  },
  {
   "cell_type": "code",
   "execution_count": 86,
   "metadata": {},
   "outputs": [],
   "source": [
    "X_train_ndf = pd.concat((X_train, ohe_cats), axis=1)\n",
    "X_test_ndf= pd.concat((X_test, ohe_cats_test), axis=1)"
   ]
  },
  {
   "cell_type": "code",
   "execution_count": 87,
   "metadata": {},
   "outputs": [
    {
     "data": {
      "text/plain": [
       "(6344, 334)"
      ]
     },
     "execution_count": 87,
     "metadata": {},
     "output_type": "execute_result"
    }
   ],
   "source": [
    "X_train_ndf.shape"
   ]
  },
  {
   "cell_type": "code",
   "execution_count": 88,
   "metadata": {},
   "outputs": [
    {
     "data": {
      "text/plain": [
       "(6344,)"
      ]
     },
     "execution_count": 88,
     "metadata": {},
     "output_type": "execute_result"
    }
   ],
   "source": [
    "y_train.shape"
   ]
  },
  {
   "cell_type": "code",
   "execution_count": 89,
   "metadata": {},
   "outputs": [
    {
     "data": {
      "text/plain": [
       "(1587, 334)"
      ]
     },
     "execution_count": 89,
     "metadata": {},
     "output_type": "execute_result"
    }
   ],
   "source": [
    "X_test_ndf.shape"
   ]
  },
  {
   "cell_type": "code",
   "execution_count": 90,
   "metadata": {},
   "outputs": [
    {
     "data": {
      "text/plain": [
       "(1587,)"
      ]
     },
     "execution_count": 90,
     "metadata": {},
     "output_type": "execute_result"
    }
   ],
   "source": [
    "y_test.shape"
   ]
  },
  {
   "cell_type": "code",
   "execution_count": 95,
   "metadata": {},
   "outputs": [],
   "source": [
    "ss = StandardScaler()\n",
    "\n",
    "X_train_ndf_ss = ss.fit_transform(X_train_ndf)\n",
    "X_test_ndf_ss = ss.transform(X_test_ndf)"
   ]
  },
  {
   "cell_type": "code",
   "execution_count": 96,
   "metadata": {},
   "outputs": [
    {
     "data": {
      "text/plain": [
       "(6344, 334)"
      ]
     },
     "execution_count": 96,
     "metadata": {},
     "output_type": "execute_result"
    }
   ],
   "source": [
    "X_train_ndf_ss.shape"
   ]
  },
  {
   "cell_type": "markdown",
   "metadata": {},
   "source": [
    "### Linear Regression"
   ]
  },
  {
   "cell_type": "code",
   "execution_count": 97,
   "metadata": {},
   "outputs": [
    {
     "name": "stdout",
     "output_type": "stream",
     "text": [
      "0.286950507839033\n",
      "0.4241463415215314\n"
     ]
    }
   ],
   "source": [
    "random.seed(a=42)\n",
    "linreg = LinearRegression()\n",
    "\n",
    "linreg.fit(X_train_ndf_ss, y_train)\n",
    "print(linreg.score(X_train_ndf_ss, y_train))\n",
    "print(mean_absolute_error(y_train, linreg.predict(X_train_ndf_ss)))"
   ]
  },
  {
   "cell_type": "code",
   "execution_count": 98,
   "metadata": {},
   "outputs": [
    {
     "data": {
      "text/plain": [
       "-3.098044340909372e+28"
      ]
     },
     "execution_count": 98,
     "metadata": {},
     "output_type": "execute_result"
    }
   ],
   "source": [
    "cross_val_score(linreg, X_train_ndf_ss, y_train, cv=3).mean()"
   ]
  },
  {
   "cell_type": "code",
   "execution_count": 99,
   "metadata": {},
   "outputs": [
    {
     "name": "stdout",
     "output_type": "stream",
     "text": [
      "-3.0514778622433056e+23\n",
      "72424304476.64925\n"
     ]
    }
   ],
   "source": [
    "print(linreg.score(X_test_ndf_ss, y_test))\n",
    "print(mean_absolute_error(y_test, linreg.predict(X_test_ndf_ss)))"
   ]
  },
  {
   "cell_type": "markdown",
   "metadata": {},
   "source": [
    "### Ridge Regressor"
   ]
  },
  {
   "cell_type": "code",
   "execution_count": 100,
   "metadata": {},
   "outputs": [
    {
     "name": "stdout",
     "output_type": "stream",
     "text": [
      "0.28699281757079154\n",
      "0.4240761851813676\n"
     ]
    }
   ],
   "source": [
    "ridge = Ridge(alpha=4.0, random_state=42)\n",
    "\n",
    "ridge.fit(X_train_ndf_ss, y_train)\n",
    "print(ridge.score(X_train_ndf_ss, y_train))\n",
    "print(mean_absolute_error(y_train, ridge.predict(X_train_ndf_ss)))"
   ]
  },
  {
   "cell_type": "code",
   "execution_count": 101,
   "metadata": {},
   "outputs": [
    {
     "data": {
      "text/plain": [
       "0.2317062933405919"
      ]
     },
     "execution_count": 101,
     "metadata": {},
     "output_type": "execute_result"
    }
   ],
   "source": [
    "cross_val_score(ridge, X_train_ndf_ss, y_train, cv=3).mean()"
   ]
  },
  {
   "cell_type": "code",
   "execution_count": 102,
   "metadata": {},
   "outputs": [
    {
     "name": "stdout",
     "output_type": "stream",
     "text": [
      "0.1998015831479053\n",
      "0.478071682391578\n"
     ]
    }
   ],
   "source": [
    "print(ridge.score(X_test_ndf_ss, y_test))\n",
    "print(mean_absolute_error(y_test, ridge.predict(X_test_ndf_ss)))"
   ]
  },
  {
   "cell_type": "markdown",
   "metadata": {},
   "source": [
    "### Lasso Regression"
   ]
  },
  {
   "cell_type": "code",
   "execution_count": 106,
   "metadata": {},
   "outputs": [
    {
     "name": "stdout",
     "output_type": "stream",
     "text": [
      "0.07825387436158371\n",
      "0.4940084688607682\n"
     ]
    }
   ],
   "source": [
    "lasso = Lasso(alpha=.1, random_state=42)\n",
    "\n",
    "lasso.fit(X_train_ndf_ss, y_train)\n",
    "print(lasso.score(X_train_ndf_ss, y_train))\n",
    "print(mean_absolute_error(y_train, lasso.predict(X_train_ndf_ss)))"
   ]
  },
  {
   "cell_type": "markdown",
   "metadata": {},
   "source": [
    "### Adaboost Regressor"
   ]
  },
  {
   "cell_type": "code",
   "execution_count": 109,
   "metadata": {},
   "outputs": [],
   "source": [
    "from sklearn.ensemble import AdaBoostRegressor"
   ]
  },
  {
   "cell_type": "code",
   "execution_count": 110,
   "metadata": {},
   "outputs": [
    {
     "name": "stdout",
     "output_type": "stream",
     "text": [
      "-0.4182553660913362\n",
      "0.589408261311469\n"
     ]
    }
   ],
   "source": [
    "abr = AdaBoostRegressor(random_state=42)\n",
    "\n",
    "abr.fit(X_train_ndf, y_train)\n",
    "print(abr.score(X_train_ndf, y_train))\n",
    "print(mean_absolute_error(y_train, abr.predict(X_train_ndf_ss)))"
   ]
  },
  {
   "cell_type": "code",
   "execution_count": 111,
   "metadata": {},
   "outputs": [
    {
     "data": {
      "text/plain": [
       "-0.5826222270283277"
      ]
     },
     "execution_count": 111,
     "metadata": {},
     "output_type": "execute_result"
    }
   ],
   "source": [
    "cross_val_score(abr, X_train_ndf, y_train, cv=3).mean()"
   ]
  },
  {
   "cell_type": "markdown",
   "metadata": {},
   "source": [
    "### Gradient Boost Regressor"
   ]
  },
  {
   "cell_type": "code",
   "execution_count": 114,
   "metadata": {},
   "outputs": [],
   "source": [
    "from sklearn.ensemble import GradientBoostingRegressor"
   ]
  },
  {
   "cell_type": "code",
   "execution_count": 124,
   "metadata": {},
   "outputs": [
    {
     "name": "stdout",
     "output_type": "stream",
     "text": [
      "-0.4182553660913362\n",
      "1.5970606034800992\n"
     ]
    }
   ],
   "source": [
    "gradbst = GradientBoostingRegressor(random_state=42)\n",
    "\n",
    "gradbst.fit(X_train_ndf, y_train)\n",
    "print(abr.score(X_train_ndf, y_train))\n",
    "print(mean_absolute_error(y_train, gradbst.predict(X_train_ndf_ss)))"
   ]
  },
  {
   "cell_type": "code",
   "execution_count": 116,
   "metadata": {},
   "outputs": [
    {
     "data": {
      "text/plain": [
       "0.24559286236843478"
      ]
     },
     "execution_count": 116,
     "metadata": {},
     "output_type": "execute_result"
    }
   ],
   "source": [
    "cross_val_score(gradbst, X_train_ndf, y_train, cv=3).mean()"
   ]
  },
  {
   "cell_type": "markdown",
   "metadata": {},
   "source": [
    "### Decision Tree Regressor"
   ]
  },
  {
   "cell_type": "code",
   "execution_count": 118,
   "metadata": {},
   "outputs": [],
   "source": [
    "from sklearn.tree import DecisionTreeRegressor"
   ]
  },
  {
   "cell_type": "code",
   "execution_count": 125,
   "metadata": {},
   "outputs": [
    {
     "name": "stdout",
     "output_type": "stream",
     "text": [
      "0.9999123119560599\n",
      "0.00024905422446406053\n"
     ]
    }
   ],
   "source": [
    "dectree = DecisionTreeRegressor(criterion='mae', random_state=42)\n",
    "\n",
    "dectree.fit(X_train_ndf, y_train)\n",
    "print(dectree.score(X_train_ndf, y_train))\n",
    "print(mean_absolute_error(y_train, dectree.predict(X_train_ndf)))"
   ]
  },
  {
   "cell_type": "code",
   "execution_count": 129,
   "metadata": {},
   "outputs": [
    {
     "data": {
      "text/plain": [
       "-0.36176713704136726"
      ]
     },
     "execution_count": 129,
     "metadata": {},
     "output_type": "execute_result"
    }
   ],
   "source": [
    "cross_val_score(dectree, X_train_ndf, y_train, cv=3).mean()"
   ]
  },
  {
   "cell_type": "markdown",
   "metadata": {},
   "source": [
    "### Random Forest Regressor"
   ]
  },
  {
   "cell_type": "code",
   "execution_count": 135,
   "metadata": {},
   "outputs": [
    {
     "name": "stdout",
     "output_type": "stream",
     "text": [
      "0.5242347623286936\n",
      "0.33061752895298585\n"
     ]
    }
   ],
   "source": [
    "rfr = RandomForestRegressor(random_state=42,max_depth=30, max_features=50, min_samples_split=20)\n",
    "\n",
    "rfr.fit(X_train_ndf, y_train)\n",
    "\n",
    "print(rfr.score(X_train_ndf, y_train))\n",
    "print(mean_absolute_error(y_train, rfr.predict(X_train_ndf)))"
   ]
  },
  {
   "cell_type": "code",
   "execution_count": 131,
   "metadata": {},
   "outputs": [
    {
     "data": {
      "text/plain": [
       "0.27827644216988695"
      ]
     },
     "execution_count": 131,
     "metadata": {},
     "output_type": "execute_result"
    }
   ],
   "source": [
    "cross_val_score(rfr, X_train_ndf, y_train, cv=3).mean()"
   ]
  },
  {
   "cell_type": "code",
   "execution_count": 133,
   "metadata": {},
   "outputs": [
    {
     "name": "stdout",
     "output_type": "stream",
     "text": [
      "0.27402700177558426\n",
      "0.4307278764044425\n"
     ]
    }
   ],
   "source": [
    "print(rfr.score(X_test_ndf, y_test))\n",
    "print(mean_absolute_error(y_test, rfr.predict(X_test_ndf)))"
   ]
  },
  {
   "cell_type": "markdown",
   "metadata": {},
   "source": [
    "### Knearest Neighbors Regressor"
   ]
  },
  {
   "cell_type": "code",
   "execution_count": 136,
   "metadata": {},
   "outputs": [],
   "source": [
    "from sklearn.neighbors import KNeighborsRegressor"
   ]
  },
  {
   "cell_type": "code",
   "execution_count": 139,
   "metadata": {},
   "outputs": [
    {
     "name": "stdout",
     "output_type": "stream",
     "text": [
      "0.4123190078411292\n",
      "0.37144356872635564\n"
     ]
    }
   ],
   "source": [
    "random.seed(a=42)\n",
    "kneighbors = KNeighborsRegressor()\n",
    "\n",
    "kneighbors.fit(X_train_ndf, y_train)\n",
    "print(kneighbors.score(X_train_ndf, y_train))\n",
    "print(mean_absolute_error(y_train, kneighbors.predict(X_train_ndf)))"
   ]
  },
  {
   "cell_type": "code",
   "execution_count": 142,
   "metadata": {},
   "outputs": [
    {
     "data": {
      "text/plain": [
       "0.08366966164918035"
      ]
     },
     "execution_count": 142,
     "metadata": {},
     "output_type": "execute_result"
    }
   ],
   "source": [
    "cross_val_score(kneighbors, X_train_ndf,y_train).mean()"
   ]
  },
  {
   "cell_type": "code",
   "execution_count": null,
   "metadata": {},
   "outputs": [],
   "source": []
  }
 ],
 "metadata": {
  "kernelspec": {
   "display_name": "Python 3",
   "language": "python",
   "name": "python3"
  },
  "language_info": {
   "codemirror_mode": {
    "name": "ipython",
    "version": 3
   },
   "file_extension": ".py",
   "mimetype": "text/x-python",
   "name": "python",
   "nbconvert_exporter": "python",
   "pygments_lexer": "ipython3",
   "version": "3.6.9"
  }
 },
 "nbformat": 4,
 "nbformat_minor": 4
}
